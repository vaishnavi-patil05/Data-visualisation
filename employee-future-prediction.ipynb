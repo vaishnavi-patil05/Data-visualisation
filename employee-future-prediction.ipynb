{
 "cells": [
  {
   "cell_type": "code",
   "execution_count": 1,
   "id": "9cf8ad25",
   "metadata": {
    "_cell_guid": "b1076dfc-b9ad-4769-8c92-a6c4dae69d19",
    "_uuid": "8f2839f25d086af736a60e9eeb907d3b93b6e0e5",
    "execution": {
     "iopub.execute_input": "2022-08-22T09:09:08.871149Z",
     "iopub.status.busy": "2022-08-22T09:09:08.869513Z",
     "iopub.status.idle": "2022-08-22T09:09:08.900283Z",
     "shell.execute_reply": "2022-08-22T09:09:08.898247Z"
    },
    "papermill": {
     "duration": 0.045707,
     "end_time": "2022-08-22T09:09:08.903941",
     "exception": false,
     "start_time": "2022-08-22T09:09:08.858234",
     "status": "completed"
    },
    "tags": []
   },
   "outputs": [
    {
     "name": "stdout",
     "output_type": "stream",
     "text": [
      "/kaggle/input/employee-future-prediction/Employee.csv\n"
     ]
    }
   ],
   "source": [
    "# This Python 3 environment comes with many helpful analytics libraries installed\n",
    "# It is defined by the kaggle/python Docker image: https://github.com/kaggle/docker-python\n",
    "# For example, here's several helpful packages to load\n",
    "\n",
    "import numpy as np # linear algebra\n",
    "import pandas as pd # data processing, CSV file I/O (e.g. pd.read_csv)\n",
    "\n",
    "# Input data files are available in the read-only \"../input/\" directory\n",
    "# For example, running this (by clicking run or pressing Shift+Enter) will list all files under the input directory\n",
    "\n",
    "import os\n",
    "for dirname, _, filenames in os.walk('/kaggle/input'):\n",
    "    for filename in filenames:\n",
    "        print(os.path.join(dirname, filename))\n",
    "\n",
    "# You can write up to 20GB to the current directory (/kaggle/working/) that gets preserved as output when you create a version using \"Save & Run All\" \n",
    "# You can also write temporary files to /kaggle/temp/, but they won't be saved outside of the current session"
   ]
  },
  {
   "cell_type": "markdown",
   "id": "b96bde01",
   "metadata": {
    "papermill": {
     "duration": 0.007301,
     "end_time": "2022-08-22T09:09:08.919333",
     "exception": false,
     "start_time": "2022-08-22T09:09:08.912032",
     "status": "completed"
    },
    "tags": []
   },
   "source": [
    "> # Loading Packages"
   ]
  },
  {
   "cell_type": "code",
   "execution_count": 2,
   "id": "545fbc49",
   "metadata": {
    "execution": {
     "iopub.execute_input": "2022-08-22T09:09:08.937228Z",
     "iopub.status.busy": "2022-08-22T09:09:08.935886Z",
     "iopub.status.idle": "2022-08-22T09:09:10.383078Z",
     "shell.execute_reply": "2022-08-22T09:09:10.381589Z"
    },
    "papermill": {
     "duration": 1.460161,
     "end_time": "2022-08-22T09:09:10.387082",
     "exception": false,
     "start_time": "2022-08-22T09:09:08.926921",
     "status": "completed"
    },
    "tags": []
   },
   "outputs": [],
   "source": [
    "import numpy as np\n",
    "import pandas as pd\n",
    "import seaborn as sns\n",
    "import matplotlib.pyplot as plt"
   ]
  },
  {
   "cell_type": "markdown",
   "id": "3bd669f8",
   "metadata": {
    "papermill": {
     "duration": 0.007247,
     "end_time": "2022-08-22T09:09:10.402222",
     "exception": false,
     "start_time": "2022-08-22T09:09:10.394975",
     "status": "completed"
    },
    "tags": []
   },
   "source": [
    "> # Reading Data"
   ]
  },
  {
   "cell_type": "code",
   "execution_count": 3,
   "id": "e78ddc5e",
   "metadata": {
    "execution": {
     "iopub.execute_input": "2022-08-22T09:09:10.419771Z",
     "iopub.status.busy": "2022-08-22T09:09:10.419282Z",
     "iopub.status.idle": "2022-08-22T09:09:10.447497Z",
     "shell.execute_reply": "2022-08-22T09:09:10.446462Z"
    },
    "papermill": {
     "duration": 0.040644,
     "end_time": "2022-08-22T09:09:10.450642",
     "exception": false,
     "start_time": "2022-08-22T09:09:10.409998",
     "status": "completed"
    },
    "tags": []
   },
   "outputs": [],
   "source": [
    "df=pd.read_csv('/kaggle/input/employee-future-prediction/Employee.csv')\n"
   ]
  },
  {
   "cell_type": "markdown",
   "id": "8c0c39d5",
   "metadata": {
    "papermill": {
     "duration": 0.007164,
     "end_time": "2022-08-22T09:09:10.465625",
     "exception": false,
     "start_time": "2022-08-22T09:09:10.458461",
     "status": "completed"
    },
    "tags": []
   },
   "source": [
    "> # Data"
   ]
  },
  {
   "cell_type": "markdown",
   "id": "fb6bf916",
   "metadata": {
    "papermill": {
     "duration": 0.007178,
     "end_time": "2022-08-22T09:09:10.480553",
     "exception": false,
     "start_time": "2022-08-22T09:09:10.473375",
     "status": "completed"
    },
    "tags": []
   },
   "source": [
    "* Education : Education Level\n",
    "* Joining Year : Year of Joining Company\n",
    "* City : City office where posted\n",
    "* Payment Tier : 1:Highest, 2:Mid Level, 3:Lowest\n",
    "* Age : Current age of employee\n",
    "* Gender : Gender of employee\n",
    "* Ever Benched : Ever kept out of project.\n",
    "* ExperienceInCurrentDomain : Experience in current Field.\n",
    "* Leave or Not : Wheather employee leaves the company .\n",
    " "
   ]
  },
  {
   "cell_type": "markdown",
   "id": "faf8ff95",
   "metadata": {
    "papermill": {
     "duration": 0.007115,
     "end_time": "2022-08-22T09:09:10.495415",
     "exception": false,
     "start_time": "2022-08-22T09:09:10.488300",
     "status": "completed"
    },
    "tags": []
   },
   "source": [
    "> # Dimension of Data"
   ]
  },
  {
   "cell_type": "code",
   "execution_count": 4,
   "id": "480f407b",
   "metadata": {
    "execution": {
     "iopub.execute_input": "2022-08-22T09:09:10.514607Z",
     "iopub.status.busy": "2022-08-22T09:09:10.513629Z",
     "iopub.status.idle": "2022-08-22T09:09:10.524255Z",
     "shell.execute_reply": "2022-08-22T09:09:10.523041Z"
    },
    "papermill": {
     "duration": 0.023972,
     "end_time": "2022-08-22T09:09:10.526834",
     "exception": false,
     "start_time": "2022-08-22T09:09:10.502862",
     "status": "completed"
    },
    "tags": []
   },
   "outputs": [
    {
     "data": {
      "text/plain": [
       "(4653, 9)"
      ]
     },
     "execution_count": 4,
     "metadata": {},
     "output_type": "execute_result"
    }
   ],
   "source": [
    "df.shape"
   ]
  },
  {
   "cell_type": "markdown",
   "id": "e690a2a4",
   "metadata": {
    "papermill": {
     "duration": 0.007489,
     "end_time": "2022-08-22T09:09:10.542103",
     "exception": false,
     "start_time": "2022-08-22T09:09:10.534614",
     "status": "completed"
    },
    "tags": []
   },
   "source": [
    "The data contains 4653 rows and 9 columns"
   ]
  },
  {
   "cell_type": "code",
   "execution_count": 5,
   "id": "e22cf2af",
   "metadata": {
    "execution": {
     "iopub.execute_input": "2022-08-22T09:09:10.560900Z",
     "iopub.status.busy": "2022-08-22T09:09:10.559908Z",
     "iopub.status.idle": "2022-08-22T09:09:10.566135Z",
     "shell.execute_reply": "2022-08-22T09:09:10.565203Z"
    },
    "papermill": {
     "duration": 0.018846,
     "end_time": "2022-08-22T09:09:10.568671",
     "exception": false,
     "start_time": "2022-08-22T09:09:10.549825",
     "status": "completed"
    },
    "tags": []
   },
   "outputs": [],
   "source": [
    "org_df=df.copy()"
   ]
  },
  {
   "cell_type": "markdown",
   "id": "dd0aea25",
   "metadata": {
    "papermill": {
     "duration": 0.007448,
     "end_time": "2022-08-22T09:09:10.583981",
     "exception": false,
     "start_time": "2022-08-22T09:09:10.576533",
     "status": "completed"
    },
    "tags": []
   },
   "source": [
    "> # Features of Data"
   ]
  },
  {
   "cell_type": "code",
   "execution_count": 6,
   "id": "672235e0",
   "metadata": {
    "execution": {
     "iopub.execute_input": "2022-08-22T09:09:10.602017Z",
     "iopub.status.busy": "2022-08-22T09:09:10.601054Z",
     "iopub.status.idle": "2022-08-22T09:09:10.633114Z",
     "shell.execute_reply": "2022-08-22T09:09:10.631836Z"
    },
    "papermill": {
     "duration": 0.043968,
     "end_time": "2022-08-22T09:09:10.635570",
     "exception": false,
     "start_time": "2022-08-22T09:09:10.591602",
     "status": "completed"
    },
    "tags": []
   },
   "outputs": [
    {
     "name": "stdout",
     "output_type": "stream",
     "text": [
      "<class 'pandas.core.frame.DataFrame'>\n",
      "RangeIndex: 4653 entries, 0 to 4652\n",
      "Data columns (total 9 columns):\n",
      " #   Column                     Non-Null Count  Dtype \n",
      "---  ------                     --------------  ----- \n",
      " 0   Education                  4653 non-null   object\n",
      " 1   JoiningYear                4653 non-null   int64 \n",
      " 2   City                       4653 non-null   object\n",
      " 3   PaymentTier                4653 non-null   int64 \n",
      " 4   Age                        4653 non-null   int64 \n",
      " 5   Gender                     4653 non-null   object\n",
      " 6   EverBenched                4653 non-null   object\n",
      " 7   ExperienceInCurrentDomain  4653 non-null   int64 \n",
      " 8   LeaveOrNot                 4653 non-null   int64 \n",
      "dtypes: int64(5), object(4)\n",
      "memory usage: 327.3+ KB\n"
     ]
    }
   ],
   "source": [
    "df.info()"
   ]
  },
  {
   "cell_type": "markdown",
   "id": "34b057a2",
   "metadata": {
    "papermill": {
     "duration": 0.007459,
     "end_time": "2022-08-22T09:09:10.651012",
     "exception": false,
     "start_time": "2022-08-22T09:09:10.643553",
     "status": "completed"
    },
    "tags": []
   },
   "source": [
    "as we can see there are 5 numerical and 4 categorical variables."
   ]
  },
  {
   "cell_type": "markdown",
   "id": "1b1a7f5e",
   "metadata": {
    "papermill": {
     "duration": 0.007381,
     "end_time": "2022-08-22T09:09:10.666122",
     "exception": false,
     "start_time": "2022-08-22T09:09:10.658741",
     "status": "completed"
    },
    "tags": []
   },
   "source": [
    "> # Missing Data"
   ]
  },
  {
   "cell_type": "code",
   "execution_count": 7,
   "id": "c7697781",
   "metadata": {
    "execution": {
     "iopub.execute_input": "2022-08-22T09:09:10.684295Z",
     "iopub.status.busy": "2022-08-22T09:09:10.683319Z",
     "iopub.status.idle": "2022-08-22T09:09:10.695326Z",
     "shell.execute_reply": "2022-08-22T09:09:10.694027Z"
    },
    "papermill": {
     "duration": 0.024146,
     "end_time": "2022-08-22T09:09:10.697875",
     "exception": false,
     "start_time": "2022-08-22T09:09:10.673729",
     "status": "completed"
    },
    "tags": []
   },
   "outputs": [
    {
     "data": {
      "text/plain": [
       "Education                    0\n",
       "JoiningYear                  0\n",
       "City                         0\n",
       "PaymentTier                  0\n",
       "Age                          0\n",
       "Gender                       0\n",
       "EverBenched                  0\n",
       "ExperienceInCurrentDomain    0\n",
       "LeaveOrNot                   0\n",
       "dtype: int64"
      ]
     },
     "execution_count": 7,
     "metadata": {},
     "output_type": "execute_result"
    }
   ],
   "source": [
    "df.isnull().sum()"
   ]
  },
  {
   "cell_type": "markdown",
   "id": "44647393",
   "metadata": {
    "papermill": {
     "duration": 0.00756,
     "end_time": "2022-08-22T09:09:10.713447",
     "exception": false,
     "start_time": "2022-08-22T09:09:10.705887",
     "status": "completed"
    },
    "tags": []
   },
   "source": [
    "There is 0 null values in this dataset."
   ]
  },
  {
   "cell_type": "code",
   "execution_count": 8,
   "id": "e9896e2b",
   "metadata": {
    "execution": {
     "iopub.execute_input": "2022-08-22T09:09:10.732200Z",
     "iopub.status.busy": "2022-08-22T09:09:10.731246Z",
     "iopub.status.idle": "2022-08-22T09:09:10.740293Z",
     "shell.execute_reply": "2022-08-22T09:09:10.738789Z"
    },
    "papermill": {
     "duration": 0.021516,
     "end_time": "2022-08-22T09:09:10.742926",
     "exception": false,
     "start_time": "2022-08-22T09:09:10.721410",
     "status": "completed"
    },
    "tags": []
   },
   "outputs": [
    {
     "data": {
      "text/plain": [
       "array(['Bachelors', 'Masters', 'PHD'], dtype=object)"
      ]
     },
     "execution_count": 8,
     "metadata": {},
     "output_type": "execute_result"
    }
   ],
   "source": [
    "df['Education'].unique()"
   ]
  },
  {
   "cell_type": "code",
   "execution_count": 9,
   "id": "f7312fd6",
   "metadata": {
    "execution": {
     "iopub.execute_input": "2022-08-22T09:09:10.762347Z",
     "iopub.status.busy": "2022-08-22T09:09:10.761514Z",
     "iopub.status.idle": "2022-08-22T09:09:10.770134Z",
     "shell.execute_reply": "2022-08-22T09:09:10.768917Z"
    },
    "papermill": {
     "duration": 0.021071,
     "end_time": "2022-08-22T09:09:10.772502",
     "exception": false,
     "start_time": "2022-08-22T09:09:10.751431",
     "status": "completed"
    },
    "tags": []
   },
   "outputs": [
    {
     "data": {
      "text/plain": [
       "array(['Bangalore', 'Pune', 'New Delhi'], dtype=object)"
      ]
     },
     "execution_count": 9,
     "metadata": {},
     "output_type": "execute_result"
    }
   ],
   "source": [
    "df['City'].unique()"
   ]
  },
  {
   "cell_type": "code",
   "execution_count": 10,
   "id": "06fde823",
   "metadata": {
    "execution": {
     "iopub.execute_input": "2022-08-22T09:09:10.791712Z",
     "iopub.status.busy": "2022-08-22T09:09:10.790894Z",
     "iopub.status.idle": "2022-08-22T09:09:10.811586Z",
     "shell.execute_reply": "2022-08-22T09:09:10.810049Z"
    },
    "papermill": {
     "duration": 0.033849,
     "end_time": "2022-08-22T09:09:10.814633",
     "exception": false,
     "start_time": "2022-08-22T09:09:10.780784",
     "status": "completed"
    },
    "tags": []
   },
   "outputs": [
    {
     "name": "stderr",
     "output_type": "stream",
     "text": [
      "/opt/conda/lib/python3.7/site-packages/ipykernel_launcher.py:1: DeprecationWarning: `np.object` is a deprecated alias for the builtin `object`. To silence this warning, use `object` by itself. Doing this will not modify any behavior and is safe. \n",
      "Deprecated in NumPy 1.20; for more details and guidance: https://numpy.org/devdocs/release/1.20.0-notes.html#deprecations\n",
      "  \"\"\"Entry point for launching an IPython kernel.\n"
     ]
    },
    {
     "data": {
      "text/html": [
       "<div>\n",
       "<style scoped>\n",
       "    .dataframe tbody tr th:only-of-type {\n",
       "        vertical-align: middle;\n",
       "    }\n",
       "\n",
       "    .dataframe tbody tr th {\n",
       "        vertical-align: top;\n",
       "    }\n",
       "\n",
       "    .dataframe thead th {\n",
       "        text-align: right;\n",
       "    }\n",
       "</style>\n",
       "<table border=\"1\" class=\"dataframe\">\n",
       "  <thead>\n",
       "    <tr style=\"text-align: right;\">\n",
       "      <th></th>\n",
       "      <th>Education</th>\n",
       "      <th>City</th>\n",
       "      <th>Gender</th>\n",
       "      <th>EverBenched</th>\n",
       "    </tr>\n",
       "  </thead>\n",
       "  <tbody>\n",
       "    <tr>\n",
       "      <th>0</th>\n",
       "      <td>Bachelors</td>\n",
       "      <td>Bangalore</td>\n",
       "      <td>Male</td>\n",
       "      <td>No</td>\n",
       "    </tr>\n",
       "    <tr>\n",
       "      <th>1</th>\n",
       "      <td>Bachelors</td>\n",
       "      <td>Pune</td>\n",
       "      <td>Female</td>\n",
       "      <td>No</td>\n",
       "    </tr>\n",
       "    <tr>\n",
       "      <th>2</th>\n",
       "      <td>Bachelors</td>\n",
       "      <td>New Delhi</td>\n",
       "      <td>Female</td>\n",
       "      <td>No</td>\n",
       "    </tr>\n",
       "    <tr>\n",
       "      <th>3</th>\n",
       "      <td>Masters</td>\n",
       "      <td>Bangalore</td>\n",
       "      <td>Male</td>\n",
       "      <td>No</td>\n",
       "    </tr>\n",
       "    <tr>\n",
       "      <th>4</th>\n",
       "      <td>Masters</td>\n",
       "      <td>Pune</td>\n",
       "      <td>Male</td>\n",
       "      <td>Yes</td>\n",
       "    </tr>\n",
       "  </tbody>\n",
       "</table>\n",
       "</div>"
      ],
      "text/plain": [
       "   Education       City  Gender EverBenched\n",
       "0  Bachelors  Bangalore    Male          No\n",
       "1  Bachelors       Pune  Female          No\n",
       "2  Bachelors  New Delhi  Female          No\n",
       "3    Masters  Bangalore    Male          No\n",
       "4    Masters       Pune    Male         Yes"
      ]
     },
     "execution_count": 10,
     "metadata": {},
     "output_type": "execute_result"
    }
   ],
   "source": [
    "cat_data=df.select_dtypes(include=[np.object])\n",
    "cat_data.head()"
   ]
  },
  {
   "cell_type": "code",
   "execution_count": 11,
   "id": "3ed4ee65",
   "metadata": {
    "execution": {
     "iopub.execute_input": "2022-08-22T09:09:10.833647Z",
     "iopub.status.busy": "2022-08-22T09:09:10.833174Z",
     "iopub.status.idle": "2022-08-22T09:09:10.847669Z",
     "shell.execute_reply": "2022-08-22T09:09:10.846690Z"
    },
    "papermill": {
     "duration": 0.026879,
     "end_time": "2022-08-22T09:09:10.849799",
     "exception": false,
     "start_time": "2022-08-22T09:09:10.822920",
     "status": "completed"
    },
    "tags": []
   },
   "outputs": [
    {
     "data": {
      "text/html": [
       "<div>\n",
       "<style scoped>\n",
       "    .dataframe tbody tr th:only-of-type {\n",
       "        vertical-align: middle;\n",
       "    }\n",
       "\n",
       "    .dataframe tbody tr th {\n",
       "        vertical-align: top;\n",
       "    }\n",
       "\n",
       "    .dataframe thead th {\n",
       "        text-align: right;\n",
       "    }\n",
       "</style>\n",
       "<table border=\"1\" class=\"dataframe\">\n",
       "  <thead>\n",
       "    <tr style=\"text-align: right;\">\n",
       "      <th></th>\n",
       "      <th>JoiningYear</th>\n",
       "      <th>PaymentTier</th>\n",
       "      <th>Age</th>\n",
       "      <th>ExperienceInCurrentDomain</th>\n",
       "      <th>LeaveOrNot</th>\n",
       "    </tr>\n",
       "  </thead>\n",
       "  <tbody>\n",
       "    <tr>\n",
       "      <th>0</th>\n",
       "      <td>2017</td>\n",
       "      <td>3</td>\n",
       "      <td>34</td>\n",
       "      <td>0</td>\n",
       "      <td>0</td>\n",
       "    </tr>\n",
       "    <tr>\n",
       "      <th>1</th>\n",
       "      <td>2013</td>\n",
       "      <td>1</td>\n",
       "      <td>28</td>\n",
       "      <td>3</td>\n",
       "      <td>1</td>\n",
       "    </tr>\n",
       "    <tr>\n",
       "      <th>2</th>\n",
       "      <td>2014</td>\n",
       "      <td>3</td>\n",
       "      <td>38</td>\n",
       "      <td>2</td>\n",
       "      <td>0</td>\n",
       "    </tr>\n",
       "    <tr>\n",
       "      <th>3</th>\n",
       "      <td>2016</td>\n",
       "      <td>3</td>\n",
       "      <td>27</td>\n",
       "      <td>5</td>\n",
       "      <td>1</td>\n",
       "    </tr>\n",
       "    <tr>\n",
       "      <th>4</th>\n",
       "      <td>2017</td>\n",
       "      <td>3</td>\n",
       "      <td>24</td>\n",
       "      <td>2</td>\n",
       "      <td>1</td>\n",
       "    </tr>\n",
       "  </tbody>\n",
       "</table>\n",
       "</div>"
      ],
      "text/plain": [
       "   JoiningYear  PaymentTier  Age  ExperienceInCurrentDomain  LeaveOrNot\n",
       "0         2017            3   34                          0           0\n",
       "1         2013            1   28                          3           1\n",
       "2         2014            3   38                          2           0\n",
       "3         2016            3   27                          5           1\n",
       "4         2017            3   24                          2           1"
      ]
     },
     "execution_count": 11,
     "metadata": {},
     "output_type": "execute_result"
    }
   ],
   "source": [
    "num_data=df.select_dtypes(include=[np.number])\n",
    "num_data.head()"
   ]
  },
  {
   "cell_type": "code",
   "execution_count": 12,
   "id": "e81200c8",
   "metadata": {
    "execution": {
     "iopub.execute_input": "2022-08-22T09:09:10.870393Z",
     "iopub.status.busy": "2022-08-22T09:09:10.868901Z",
     "iopub.status.idle": "2022-08-22T09:09:11.929872Z",
     "shell.execute_reply": "2022-08-22T09:09:11.928589Z"
    },
    "papermill": {
     "duration": 1.074326,
     "end_time": "2022-08-22T09:09:11.932953",
     "exception": false,
     "start_time": "2022-08-22T09:09:10.858627",
     "status": "completed"
    },
    "tags": []
   },
   "outputs": [
    {
     "name": "stderr",
     "output_type": "stream",
     "text": [
      "/opt/conda/lib/python3.7/site-packages/seaborn/distributions.py:2619: FutureWarning: `distplot` is a deprecated function and will be removed in a future version. Please adapt your code to use either `displot` (a figure-level function with similar flexibility) or `histplot` (an axes-level function for histograms).\n",
      "  warnings.warn(msg, FutureWarning)\n",
      "/opt/conda/lib/python3.7/site-packages/seaborn/distributions.py:2619: FutureWarning: `distplot` is a deprecated function and will be removed in a future version. Please adapt your code to use either `displot` (a figure-level function with similar flexibility) or `histplot` (an axes-level function for histograms).\n",
      "  warnings.warn(msg, FutureWarning)\n",
      "/opt/conda/lib/python3.7/site-packages/seaborn/distributions.py:2619: FutureWarning: `distplot` is a deprecated function and will be removed in a future version. Please adapt your code to use either `displot` (a figure-level function with similar flexibility) or `histplot` (an axes-level function for histograms).\n",
      "  warnings.warn(msg, FutureWarning)\n",
      "/opt/conda/lib/python3.7/site-packages/seaborn/distributions.py:2619: FutureWarning: `distplot` is a deprecated function and will be removed in a future version. Please adapt your code to use either `displot` (a figure-level function with similar flexibility) or `histplot` (an axes-level function for histograms).\n",
      "  warnings.warn(msg, FutureWarning)\n"
     ]
    },
    {
     "data": {
      "image/png": "[encoded data removed]",
      "text/plain": [
       "<Figure size 1800x720 with 4 Axes>"
      ]
     },
     "metadata": {
      "needs_background": "light"
     },
     "output_type": "display_data"
    }
   ],
   "source": [
    "fig,axes=plt.subplots(2,2,figsize=(25,10))\n",
    "cols=[['JoiningYear','PaymentTier'],['Age','ExperienceInCurrentDomain']]\n",
    "for i in range (len(cols)):\n",
    "    for j in range(len(cols)):\n",
    "        sns.distplot(x=df[cols[i][j]],ax=axes[i,j],color='b')"
   ]
  },
  {
   "cell_type": "code",
   "execution_count": 13,
   "id": "cc3f05b8",
   "metadata": {
    "execution": {
     "iopub.execute_input": "2022-08-22T09:09:11.956188Z",
     "iopub.status.busy": "2022-08-22T09:09:11.955068Z",
     "iopub.status.idle": "2022-08-22T09:09:12.535760Z",
     "shell.execute_reply": "2022-08-22T09:09:12.534068Z"
    },
    "papermill": {
     "duration": 0.595673,
     "end_time": "2022-08-22T09:09:12.538948",
     "exception": false,
     "start_time": "2022-08-22T09:09:11.943275",
     "status": "completed"
    },
    "tags": []
   },
   "outputs": [
    {
     "data": {
      "image/png": "[encoded data removed]",
      "text/plain": [
       "<Figure size 1080x720 with 4 Axes>"
      ]
     },
     "metadata": {
      "needs_background": "light"
     },
     "output_type": "display_data"
    }
   ],
   "source": [
    "fig,axes=plt.subplots(2,2,figsize=(15,10))\n",
    "\n",
    "cols = [['Education','City'],['Gender','LeaveOrNot']]\n",
    "for row in range(len(cols)):\n",
    "    for col in range(len(cols)):\n",
    "        sns.countplot(x=df[cols[row][col]],palette=\"turbo\",edgecolor=sns.color_palette(\"gist_earth\", 8),ax=axes[row,col])\n",
    "\n",
    "plt.tight_layout()\n",
    "plt.subplots_adjust()"
   ]
  },
  {
   "cell_type": "markdown",
   "id": "f5757910",
   "metadata": {
    "papermill": {
     "duration": 0.010072,
     "end_time": "2022-08-22T09:09:12.559743",
     "exception": false,
     "start_time": "2022-08-22T09:09:12.549671",
     "status": "completed"
    },
    "tags": []
   },
   "source": [
    "* Most of the employees has a bachelors degree whereas very less employees has PHD.\n",
    "* Count of employees working in Bangalore is more\n",
    "* Male employees are more than female emplolyees\n",
    "* Count of employees leaving company is more "
   ]
  },
  {
   "cell_type": "code",
   "execution_count": 14,
   "id": "98c01952",
   "metadata": {
    "execution": {
     "iopub.execute_input": "2022-08-22T09:09:12.583306Z",
     "iopub.status.busy": "2022-08-22T09:09:12.582698Z",
     "iopub.status.idle": "2022-08-22T09:09:13.002908Z",
     "shell.execute_reply": "2022-08-22T09:09:13.001531Z"
    },
    "papermill": {
     "duration": 0.435887,
     "end_time": "2022-08-22T09:09:13.006032",
     "exception": false,
     "start_time": "2022-08-22T09:09:12.570145",
     "status": "completed"
    },
    "tags": []
   },
   "outputs": [
    {
     "data": {
      "image/png": "[encoded data removed]",
      "text/plain": [
       "<Figure size 1440x504 with 2 Axes>"
      ]
     },
     "metadata": {
      "needs_background": "light"
     },
     "output_type": "display_data"
    }
   ],
   "source": [
    "figure, axes=plt.subplots(1,2,figsize=(20,7))\n",
    "\n",
    "cols=['Education','LeaveOrNot']\n",
    "\n",
    "for i in range(len(cols)):    \n",
    "    sns.countplot(x=df['City'],hue=df[cols[i]],ax=axes[i],palette=\"turbo\",edgecolor=sns.color_palette(\"gist_earth\", 8))\n"
   ]
  },
  {
   "cell_type": "code",
   "execution_count": 15,
   "id": "e777d5aa",
   "metadata": {
    "execution": {
     "iopub.execute_input": "2022-08-22T09:09:13.030681Z",
     "iopub.status.busy": "2022-08-22T09:09:13.029752Z",
     "iopub.status.idle": "2022-08-22T09:09:13.418880Z",
     "shell.execute_reply": "2022-08-22T09:09:13.417460Z"
    },
    "papermill": {
     "duration": 0.404808,
     "end_time": "2022-08-22T09:09:13.421873",
     "exception": false,
     "start_time": "2022-08-22T09:09:13.017065",
     "status": "completed"
    },
    "tags": []
   },
   "outputs": [
    {
     "data": {
      "image/png": "[encoded data removed]",
      "text/plain": [
       "<Figure size 1440x576 with 2 Axes>"
      ]
     },
     "metadata": {
      "needs_background": "light"
     },
     "output_type": "display_data"
    }
   ],
   "source": [
    "cols = ['Education','Gender']\n",
    "figure, axes=plt.subplots(1,2,figsize=(20,8))\n",
    "\n",
    "for i in range(len(cols)):\n",
    "    sns.countplot(x=df[cols[i]],hue=df['LeaveOrNot'],ax=axes[i],palette=\"turbo\",edgecolor=sns.color_palette(\"gist_earth\", 8))"
   ]
  },
  {
   "cell_type": "code",
   "execution_count": 16,
   "id": "1ba25335",
   "metadata": {
    "execution": {
     "iopub.execute_input": "2022-08-22T09:09:13.446517Z",
     "iopub.status.busy": "2022-08-22T09:09:13.445999Z",
     "iopub.status.idle": "2022-08-22T09:09:13.839568Z",
     "shell.execute_reply": "2022-08-22T09:09:13.838067Z"
    },
    "papermill": {
     "duration": 0.409261,
     "end_time": "2022-08-22T09:09:13.842498",
     "exception": false,
     "start_time": "2022-08-22T09:09:13.433237",
     "status": "completed"
    },
    "tags": []
   },
   "outputs": [
    {
     "data": {
      "image/png": "[encoded data removed]",
      "text/plain": [
       "<Figure size 1440x576 with 2 Axes>"
      ]
     },
     "metadata": {
      "needs_background": "light"
     },
     "output_type": "display_data"
    }
   ],
   "source": [
    "cols=['Education','PaymentTier']\n",
    "figure, axes=plt.subplots(1,2,figsize=(20,8))\n",
    "for i in range (len(cols)):\n",
    "    sns.countplot(x=df[cols[i]],hue=df['EverBenched'],ax=axes[i],palette=\"turbo\",edgecolor=sns.color_palette(\"gist_earth\", 8))"
   ]
  },
  {
   "cell_type": "code",
   "execution_count": 17,
   "id": "477e14a9",
   "metadata": {
    "execution": {
     "iopub.execute_input": "2022-08-22T09:09:13.868201Z",
     "iopub.status.busy": "2022-08-22T09:09:13.867682Z",
     "iopub.status.idle": "2022-08-22T09:09:14.562888Z",
     "shell.execute_reply": "2022-08-22T09:09:14.561787Z"
    },
    "papermill": {
     "duration": 0.711722,
     "end_time": "2022-08-22T09:09:14.565940",
     "exception": false,
     "start_time": "2022-08-22T09:09:13.854218",
     "status": "completed"
    },
    "tags": []
   },
   "outputs": [
    {
     "data": {
      "image/png": "[encoded data removed]",
      "text/plain": [
       "<Figure size 1440x720 with 2 Axes>"
      ]
     },
     "metadata": {
      "needs_background": "light"
     },
     "output_type": "display_data"
    }
   ],
   "source": [
    "figure,axes=plt.subplots(1,2,figsize=(20,10))\n",
    "cols=['EverBenched','PaymentTier']\n",
    "for i in range (len(cols)):\n",
    "    sns.countplot(x=df['JoiningYear'],hue=df[cols[i]],ax=axes[i],palette=\"turbo\",edgecolor=sns.color_palette(\"gist_earth\", 8))"
   ]
  },
  {
   "cell_type": "code",
   "execution_count": 18,
   "id": "f0c602d5",
   "metadata": {
    "execution": {
     "iopub.execute_input": "2022-08-22T09:09:14.594462Z",
     "iopub.status.busy": "2022-08-22T09:09:14.593912Z",
     "iopub.status.idle": "2022-08-22T09:09:14.821095Z",
     "shell.execute_reply": "2022-08-22T09:09:14.820067Z"
    },
    "papermill": {
     "duration": 0.245382,
     "end_time": "2022-08-22T09:09:14.823854",
     "exception": false,
     "start_time": "2022-08-22T09:09:14.578472",
     "status": "completed"
    },
    "tags": []
   },
   "outputs": [
    {
     "data": {
      "text/plain": [
       "<AxesSubplot:xlabel='Education', ylabel='count'>"
      ]
     },
     "execution_count": 18,
     "metadata": {},
     "output_type": "execute_result"
    },
    {
     "data": {
      "image/png": "[encoded data removed]",
      "text/plain": [
       "<Figure size 432x288 with 1 Axes>"
      ]
     },
     "metadata": {
      "needs_background": "light"
     },
     "output_type": "display_data"
    }
   ],
   "source": [
    "sns.countplot(x=df['Education'],hue=df['Gender'],palette=\"turbo\",edgecolor=sns.color_palette(\"gist_earth\", 8))"
   ]
  },
  {
   "cell_type": "code",
   "execution_count": 19,
   "id": "5f8ec7b9",
   "metadata": {
    "execution": {
     "iopub.execute_input": "2022-08-22T09:09:14.851675Z",
     "iopub.status.busy": "2022-08-22T09:09:14.850774Z",
     "iopub.status.idle": "2022-08-22T09:09:15.270255Z",
     "shell.execute_reply": "2022-08-22T09:09:15.268751Z"
    },
    "papermill": {
     "duration": 0.436816,
     "end_time": "2022-08-22T09:09:15.273046",
     "exception": false,
     "start_time": "2022-08-22T09:09:14.836230",
     "status": "completed"
    },
    "tags": []
   },
   "outputs": [
    {
     "data": {
      "text/plain": [
       "<AxesSubplot:xlabel='Age', ylabel='count'>"
      ]
     },
     "execution_count": 19,
     "metadata": {},
     "output_type": "execute_result"
    },
    {
     "data": {
      "image/png": "[encoded data removed]",
      "text/plain": [
       "<Figure size 1440x720 with 1 Axes>"
      ]
     },
     "metadata": {
      "needs_background": "light"
     },
     "output_type": "display_data"
    }
   ],
   "source": [
    "plt.figure(figsize=(20,10))\n",
    "sns.countplot(x=df['Age'],hue=df['LeaveOrNot'],palette=\"turbo\",edgecolor=sns.color_palette(\"gist_earth\", 8))"
   ]
  },
  {
   "cell_type": "code",
   "execution_count": 20,
   "id": "508543a0",
   "metadata": {
    "execution": {
     "iopub.execute_input": "2022-08-22T09:09:15.301601Z",
     "iopub.status.busy": "2022-08-22T09:09:15.300296Z",
     "iopub.status.idle": "2022-08-22T09:09:15.315666Z",
     "shell.execute_reply": "2022-08-22T09:09:15.314590Z"
    },
    "papermill": {
     "duration": 0.032305,
     "end_time": "2022-08-22T09:09:15.318115",
     "exception": false,
     "start_time": "2022-08-22T09:09:15.285810",
     "status": "completed"
    },
    "tags": []
   },
   "outputs": [
    {
     "data": {
      "text/html": [
       "<div>\n",
       "<style scoped>\n",
       "    .dataframe tbody tr th:only-of-type {\n",
       "        vertical-align: middle;\n",
       "    }\n",
       "\n",
       "    .dataframe tbody tr th {\n",
       "        vertical-align: top;\n",
       "    }\n",
       "\n",
       "    .dataframe thead th {\n",
       "        text-align: right;\n",
       "    }\n",
       "</style>\n",
       "<table border=\"1\" class=\"dataframe\">\n",
       "  <thead>\n",
       "    <tr style=\"text-align: right;\">\n",
       "      <th></th>\n",
       "      <th>Education</th>\n",
       "      <th>JoiningYear</th>\n",
       "      <th>City</th>\n",
       "      <th>PaymentTier</th>\n",
       "      <th>Age</th>\n",
       "      <th>Gender</th>\n",
       "      <th>EverBenched</th>\n",
       "      <th>ExperienceInCurrentDomain</th>\n",
       "      <th>LeaveOrNot</th>\n",
       "    </tr>\n",
       "  </thead>\n",
       "  <tbody>\n",
       "    <tr>\n",
       "      <th>0</th>\n",
       "      <td>Bachelors</td>\n",
       "      <td>2017</td>\n",
       "      <td>Bangalore</td>\n",
       "      <td>3</td>\n",
       "      <td>34</td>\n",
       "      <td>Male</td>\n",
       "      <td>No</td>\n",
       "      <td>0</td>\n",
       "      <td>0</td>\n",
       "    </tr>\n",
       "    <tr>\n",
       "      <th>1</th>\n",
       "      <td>Bachelors</td>\n",
       "      <td>2013</td>\n",
       "      <td>Pune</td>\n",
       "      <td>1</td>\n",
       "      <td>28</td>\n",
       "      <td>Female</td>\n",
       "      <td>No</td>\n",
       "      <td>3</td>\n",
       "      <td>1</td>\n",
       "    </tr>\n",
       "    <tr>\n",
       "      <th>2</th>\n",
       "      <td>Bachelors</td>\n",
       "      <td>2014</td>\n",
       "      <td>New Delhi</td>\n",
       "      <td>3</td>\n",
       "      <td>38</td>\n",
       "      <td>Female</td>\n",
       "      <td>No</td>\n",
       "      <td>2</td>\n",
       "      <td>0</td>\n",
       "    </tr>\n",
       "    <tr>\n",
       "      <th>3</th>\n",
       "      <td>Masters</td>\n",
       "      <td>2016</td>\n",
       "      <td>Bangalore</td>\n",
       "      <td>3</td>\n",
       "      <td>27</td>\n",
       "      <td>Male</td>\n",
       "      <td>No</td>\n",
       "      <td>5</td>\n",
       "      <td>1</td>\n",
       "    </tr>\n",
       "    <tr>\n",
       "      <th>4</th>\n",
       "      <td>Masters</td>\n",
       "      <td>2017</td>\n",
       "      <td>Pune</td>\n",
       "      <td>3</td>\n",
       "      <td>24</td>\n",
       "      <td>Male</td>\n",
       "      <td>Yes</td>\n",
       "      <td>2</td>\n",
       "      <td>1</td>\n",
       "    </tr>\n",
       "  </tbody>\n",
       "</table>\n",
       "</div>"
      ],
      "text/plain": [
       "   Education  JoiningYear       City  PaymentTier  Age  Gender EverBenched  \\\n",
       "0  Bachelors         2017  Bangalore            3   34    Male          No   \n",
       "1  Bachelors         2013       Pune            1   28  Female          No   \n",
       "2  Bachelors         2014  New Delhi            3   38  Female          No   \n",
       "3    Masters         2016  Bangalore            3   27    Male          No   \n",
       "4    Masters         2017       Pune            3   24    Male         Yes   \n",
       "\n",
       "   ExperienceInCurrentDomain  LeaveOrNot  \n",
       "0                          0           0  \n",
       "1                          3           1  \n",
       "2                          2           0  \n",
       "3                          5           1  \n",
       "4                          2           1  "
      ]
     },
     "execution_count": 20,
     "metadata": {},
     "output_type": "execute_result"
    }
   ],
   "source": [
    "df.head()"
   ]
  },
  {
   "cell_type": "markdown",
   "id": "27766d4a",
   "metadata": {
    "papermill": {
     "duration": 0.013283,
     "end_time": "2022-08-22T09:09:15.344447",
     "exception": false,
     "start_time": "2022-08-22T09:09:15.331164",
     "status": "completed"
    },
    "tags": []
   },
   "source": []
  },
  {
   "cell_type": "code",
   "execution_count": null,
   "id": "6b9b070f",
   "metadata": {
    "papermill": {
     "duration": 0.013583,
     "end_time": "2022-08-22T09:09:15.371507",
     "exception": false,
     "start_time": "2022-08-22T09:09:15.357924",
     "status": "completed"
    },
    "tags": []
   },
   "outputs": [],
   "source": []
  },
  {
   "cell_type": "code",
   "execution_count": null,
   "id": "f307b29d",
   "metadata": {
    "papermill": {
     "duration": 0.013322,
     "end_time": "2022-08-22T09:09:15.398002",
     "exception": false,
     "start_time": "2022-08-22T09:09:15.384680",
     "status": "completed"
    },
    "tags": []
   },
   "outputs": [],
   "source": []
  }
 ],
 "metadata": {
  "kernelspec": {
   "display_name": "Python 3",
   "language": "python",
   "name": "python3"
  },
  "language_info": {
   "codemirror_mode": {
    "name": "ipython",
    "version": 3
   },
   "file_extension": ".py",
   "mimetype": "text/x-python",
   "name": "python",
   "nbconvert_exporter": "python",
   "pygments_lexer": "ipython3",
   "version": "3.7.12"
  },
  "papermill": {
   "default_parameters": {},
   "duration": 18.137489,
   "end_time": "2022-08-22T09:09:16.538365",
   "environment_variables": {},
   "exception": null,
   "input_path": "__notebook__.ipynb",
   "output_path": "__notebook__.ipynb",
   "parameters": {},
   "start_time": "2022-08-22T09:08:58.400876",
   "version": "2.3.4"
  }
 },
 "nbformat": 4,
 "nbformat_minor": 5
}
