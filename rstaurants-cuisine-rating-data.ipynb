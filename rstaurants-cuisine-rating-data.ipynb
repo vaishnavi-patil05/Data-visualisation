{
 "cells": [
  {
   "cell_type": "code",
   "execution_count": 1,
   "id": "9ba2ce1d",
   "metadata": {
    "_cell_guid": "b1076dfc-b9ad-4769-8c92-a6c4dae69d19",
    "_uuid": "8f2839f25d086af736a60e9eeb907d3b93b6e0e5",
    "execution": {
     "iopub.execute_input": "2022-10-14T07:06:56.568589Z",
     "iopub.status.busy": "2022-10-14T07:06:56.567654Z",
     "iopub.status.idle": "2022-10-14T07:06:56.590951Z",
     "shell.execute_reply": "2022-10-14T07:06:56.590024Z"
    },
    "papermill": {
     "duration": 0.045963,
     "end_time": "2022-10-14T07:06:56.593515",
     "exception": false,
     "start_time": "2022-10-14T07:06:56.547552",
     "status": "completed"
    },
    "tags": []
   },
   "outputs": [
    {
     "name": "stdout",
     "output_type": "stream",
     "text": [
      "/kaggle/input/cuisine-rating/Cuisine_rating.csv\n"
     ]
    }
   ],
   "source": [
    "# This Python 3 environment comes with many helpful analytics libraries installed\n",
    "# It is defined by the kaggle/python Docker image: https://github.com/kaggle/docker-python\n",
    "# For example, here's several helpful packages to load\n",
    "\n",
    "import numpy as np # linear algebra\n",
    "import pandas as pd # data processing, CSV file I/O (e.g. pd.read_csv)\n",
    "\n",
    "# Input data files are available in the read-only \"../input/\" directory\n",
    "# For example, running this (by clicking run or pressing Shift+Enter) will list all files under the input directory\n",
    "\n",
    "import os\n",
    "for dirname, _, filenames in os.walk('/kaggle/input'):\n",
    "    for filename in filenames:\n",
    "        print(os.path.join(dirname, filename))\n",
    "\n",
    "# You can write up to 20GB to the current directory (/kaggle/working/) that gets preserved as output when you create a version using \"Save & Run All\" \n",
    "# You can also write temporary files to /kaggle/temp/, but they won't be saved outside of the current session"
   ]
  },
  {
   "cell_type": "markdown",
   "id": "1ffe0779",
   "metadata": {
    "papermill": {
     "duration": 0.016072,
     "end_time": "2022-10-14T07:06:56.628053",
     "exception": false,
     "start_time": "2022-10-14T07:06:56.611981",
     "status": "completed"
    },
    "tags": []
   },
   "source": [
    "* The data is related to restaurants cuisine and there ratings by customers."
   ]
  },
  {
   "cell_type": "markdown",
   "id": "c4f36496",
   "metadata": {
    "papermill": {
     "duration": 0.016022,
     "end_time": "2022-10-14T07:06:56.660335",
     "exception": false,
     "start_time": "2022-10-14T07:06:56.644313",
     "status": "completed"
    },
    "tags": []
   },
   "source": [
    "# Loading Packages"
   ]
  },
  {
   "cell_type": "code",
   "execution_count": 2,
   "id": "6b398b6f",
   "metadata": {
    "execution": {
     "iopub.execute_input": "2022-10-14T07:06:56.694791Z",
     "iopub.status.busy": "2022-10-14T07:06:56.694364Z",
     "iopub.status.idle": "2022-10-14T07:06:57.788223Z",
     "shell.execute_reply": "2022-10-14T07:06:57.787197Z"
    },
    "papermill": {
     "duration": 1.113872,
     "end_time": "2022-10-14T07:06:57.790722",
     "exception": false,
     "start_time": "2022-10-14T07:06:56.676850",
     "status": "completed"
    },
    "tags": []
   },
   "outputs": [],
   "source": [
    "import pandas as pd\n",
    "import numpy as np\n",
    "import seaborn as sns\n",
    "import matplotlib.pyplot as plt\n"
   ]
  },
  {
   "cell_type": "markdown",
   "id": "e02f73ab",
   "metadata": {
    "papermill": {
     "duration": 0.016171,
     "end_time": "2022-10-14T07:06:57.823634",
     "exception": false,
     "start_time": "2022-10-14T07:06:57.807463",
     "status": "completed"
    },
    "tags": []
   },
   "source": [
    "# Data\n",
    "The data contains 15 independent variables"
   ]
  },
  {
   "cell_type": "markdown",
   "id": "180c289e",
   "metadata": {
    "papermill": {
     "duration": 0.016102,
     "end_time": "2022-10-14T07:06:57.856138",
     "exception": false,
     "start_time": "2022-10-14T07:06:57.840036",
     "status": "completed"
    },
    "tags": []
   },
   "source": [
    "* User ID : customers User id\n",
    "* Area code : area code\n",
    "* Location: location\n",
    "* Gender : customers gender\n",
    "* YOB : customers birthyear\n",
    "* Marital Status : customer is married or single or divorced\n",
    "* Budget : budget they may spend in restaurant\n",
    "* Cuisine : types of cuisines that customers are more likely to have\n",
    "* Activity: Customers career status whether student or professional\n",
    "* Food Rating : rating for food on the scale of 5\n",
    "* Service Rating : rating for food on the scale of 5\n",
    "* Overall rating : rating based on food and service rating\n",
    "* Often A S (alocohol drinker,smoker) : wheather the customer is often A S or not"
   ]
  },
  {
   "cell_type": "markdown",
   "id": "fb271f73",
   "metadata": {
    "papermill": {
     "duration": 0.015734,
     "end_time": "2022-10-14T07:06:57.888607",
     "exception": false,
     "start_time": "2022-10-14T07:06:57.872873",
     "status": "completed"
    },
    "tags": []
   },
   "source": [
    "# Reading Data"
   ]
  },
  {
   "cell_type": "code",
   "execution_count": 3,
   "id": "fefc5e73",
   "metadata": {
    "execution": {
     "iopub.execute_input": "2022-10-14T07:06:57.922755Z",
     "iopub.status.busy": "2022-10-14T07:06:57.922285Z",
     "iopub.status.idle": "2022-10-14T07:06:57.961133Z",
     "shell.execute_reply": "2022-10-14T07:06:57.959944Z"
    },
    "papermill": {
     "duration": 0.058648,
     "end_time": "2022-10-14T07:06:57.963386",
     "exception": false,
     "start_time": "2022-10-14T07:06:57.904738",
     "status": "completed"
    },
    "tags": []
   },
   "outputs": [
    {
     "data": {
      "text/html": [
       "<div>\n",
       "<style scoped>\n",
       "    .dataframe tbody tr th:only-of-type {\n",
       "        vertical-align: middle;\n",
       "    }\n",
       "\n",
       "    .dataframe tbody tr th {\n",
       "        vertical-align: top;\n",
       "    }\n",
       "\n",
       "    .dataframe thead th {\n",
       "        text-align: right;\n",
       "    }\n",
       "</style>\n",
       "<table border=\"1\" class=\"dataframe\">\n",
       "  <thead>\n",
       "    <tr style=\"text-align: right;\">\n",
       "      <th></th>\n",
       "      <th>User ID</th>\n",
       "      <th>Area code</th>\n",
       "      <th>Location</th>\n",
       "      <th>Gender</th>\n",
       "      <th>YOB</th>\n",
       "      <th>Marital Status</th>\n",
       "      <th>Activity</th>\n",
       "      <th>Budget</th>\n",
       "      <th>Cuisines</th>\n",
       "      <th>Alcohol</th>\n",
       "      <th>Smoker</th>\n",
       "      <th>Food Rating</th>\n",
       "      <th>Service Rating</th>\n",
       "      <th>Overall Rating</th>\n",
       "      <th>Often A S</th>\n",
       "    </tr>\n",
       "  </thead>\n",
       "  <tbody>\n",
       "    <tr>\n",
       "      <th>0</th>\n",
       "      <td>1</td>\n",
       "      <td>153</td>\n",
       "      <td>Upper East Side,NY</td>\n",
       "      <td>Female</td>\n",
       "      <td>2006</td>\n",
       "      <td>Single</td>\n",
       "      <td>Professional</td>\n",
       "      <td>3</td>\n",
       "      <td>Japanese</td>\n",
       "      <td>Never</td>\n",
       "      <td>Never</td>\n",
       "      <td>5</td>\n",
       "      <td>4</td>\n",
       "      <td>4.5</td>\n",
       "      <td>No</td>\n",
       "    </tr>\n",
       "    <tr>\n",
       "      <th>1</th>\n",
       "      <td>2</td>\n",
       "      <td>123</td>\n",
       "      <td>St. George,NY</td>\n",
       "      <td>Female</td>\n",
       "      <td>1991</td>\n",
       "      <td>Married</td>\n",
       "      <td>Student</td>\n",
       "      <td>3</td>\n",
       "      <td>Indian</td>\n",
       "      <td>Never</td>\n",
       "      <td>Socially</td>\n",
       "      <td>1</td>\n",
       "      <td>1</td>\n",
       "      <td>1.0</td>\n",
       "      <td>No</td>\n",
       "    </tr>\n",
       "    <tr>\n",
       "      <th>2</th>\n",
       "      <td>3</td>\n",
       "      <td>122</td>\n",
       "      <td>Upper West Side,NY</td>\n",
       "      <td>Male</td>\n",
       "      <td>1977</td>\n",
       "      <td>Single</td>\n",
       "      <td>Student</td>\n",
       "      <td>5</td>\n",
       "      <td>Seafood</td>\n",
       "      <td>Often</td>\n",
       "      <td>Often</td>\n",
       "      <td>5</td>\n",
       "      <td>5</td>\n",
       "      <td>5.0</td>\n",
       "      <td>Yes</td>\n",
       "    </tr>\n",
       "    <tr>\n",
       "      <th>3</th>\n",
       "      <td>4</td>\n",
       "      <td>153</td>\n",
       "      <td>Upper East Side,NY</td>\n",
       "      <td>Female</td>\n",
       "      <td>1956</td>\n",
       "      <td>Married</td>\n",
       "      <td>Professional</td>\n",
       "      <td>5</td>\n",
       "      <td>Japanese</td>\n",
       "      <td>Never</td>\n",
       "      <td>Socially</td>\n",
       "      <td>3</td>\n",
       "      <td>1</td>\n",
       "      <td>2.0</td>\n",
       "      <td>No</td>\n",
       "    </tr>\n",
       "    <tr>\n",
       "      <th>4</th>\n",
       "      <td>5</td>\n",
       "      <td>129</td>\n",
       "      <td>Central Park,NY</td>\n",
       "      <td>Male</td>\n",
       "      <td>1997</td>\n",
       "      <td>Single</td>\n",
       "      <td>Student</td>\n",
       "      <td>4</td>\n",
       "      <td>Filipino</td>\n",
       "      <td>Socially</td>\n",
       "      <td>Never</td>\n",
       "      <td>2</td>\n",
       "      <td>4</td>\n",
       "      <td>3.0</td>\n",
       "      <td>No</td>\n",
       "    </tr>\n",
       "  </tbody>\n",
       "</table>\n",
       "</div>"
      ],
      "text/plain": [
       "   User ID  Area code            Location  Gender   YOB Marital Status  \\\n",
       "0        1        153  Upper East Side,NY  Female  2006         Single   \n",
       "1        2        123       St. George,NY  Female  1991        Married   \n",
       "2        3        122  Upper West Side,NY    Male  1977         Single   \n",
       "3        4        153  Upper East Side,NY  Female  1956        Married   \n",
       "4        5        129     Central Park,NY    Male  1997         Single   \n",
       "\n",
       "       Activity  Budget  Cuisines  Alcohol     Smoker  Food Rating  \\\n",
       "0  Professional       3  Japanese     Never     Never            5   \n",
       "1       Student       3    Indian     Never  Socially            1   \n",
       "2       Student       5   Seafood     Often     Often            5   \n",
       "3  Professional       5  Japanese     Never  Socially            3   \n",
       "4       Student       4  Filipino  Socially     Never            2   \n",
       "\n",
       "   Service Rating  Overall Rating Often A S  \n",
       "0               4             4.5        No  \n",
       "1               1             1.0        No  \n",
       "2               5             5.0       Yes  \n",
       "3               1             2.0        No  \n",
       "4               4             3.0        No  "
      ]
     },
     "execution_count": 3,
     "metadata": {},
     "output_type": "execute_result"
    }
   ],
   "source": [
    "df=pd.read_csv('/kaggle/input/cuisine-rating/Cuisine_rating.csv')\n",
    "df.head()"
   ]
  },
  {
   "cell_type": "markdown",
   "id": "dbd7acc0",
   "metadata": {
    "papermill": {
     "duration": 0.01658,
     "end_time": "2022-10-14T07:06:57.996602",
     "exception": false,
     "start_time": "2022-10-14T07:06:57.980022",
     "status": "completed"
    },
    "tags": []
   },
   "source": [
    "# Dimension of Data"
   ]
  },
  {
   "cell_type": "code",
   "execution_count": 4,
   "id": "8af3c4e8",
   "metadata": {
    "execution": {
     "iopub.execute_input": "2022-10-14T07:06:58.031490Z",
     "iopub.status.busy": "2022-10-14T07:06:58.031066Z",
     "iopub.status.idle": "2022-10-14T07:06:58.038180Z",
     "shell.execute_reply": "2022-10-14T07:06:58.037149Z"
    },
    "papermill": {
     "duration": 0.026908,
     "end_time": "2022-10-14T07:06:58.040209",
     "exception": false,
     "start_time": "2022-10-14T07:06:58.013301",
     "status": "completed"
    },
    "tags": []
   },
   "outputs": [
    {
     "data": {
      "text/plain": [
       "(200, 15)"
      ]
     },
     "execution_count": 4,
     "metadata": {},
     "output_type": "execute_result"
    }
   ],
   "source": [
    "df.shape"
   ]
  },
  {
   "cell_type": "markdown",
   "id": "17656060",
   "metadata": {
    "papermill": {
     "duration": 0.016222,
     "end_time": "2022-10-14T07:06:58.072878",
     "exception": false,
     "start_time": "2022-10-14T07:06:58.056656",
     "status": "completed"
    },
    "tags": []
   },
   "source": [
    "the data contains 15 columns and 200 rows."
   ]
  },
  {
   "cell_type": "code",
   "execution_count": 5,
   "id": "3d1b3935",
   "metadata": {
    "execution": {
     "iopub.execute_input": "2022-10-14T07:06:58.107833Z",
     "iopub.status.busy": "2022-10-14T07:06:58.107429Z",
     "iopub.status.idle": "2022-10-14T07:06:58.112468Z",
     "shell.execute_reply": "2022-10-14T07:06:58.111350Z"
    },
    "papermill": {
     "duration": 0.025164,
     "end_time": "2022-10-14T07:06:58.114557",
     "exception": false,
     "start_time": "2022-10-14T07:06:58.089393",
     "status": "completed"
    },
    "tags": []
   },
   "outputs": [],
   "source": [
    "org_data=df.copy()"
   ]
  },
  {
   "cell_type": "markdown",
   "id": "a3f8bfc4",
   "metadata": {
    "papermill": {
     "duration": 0.016163,
     "end_time": "2022-10-14T07:06:58.147962",
     "exception": false,
     "start_time": "2022-10-14T07:06:58.131799",
     "status": "completed"
    },
    "tags": []
   },
   "source": [
    "# Features of Data"
   ]
  },
  {
   "cell_type": "code",
   "execution_count": 6,
   "id": "216a0a1a",
   "metadata": {
    "execution": {
     "iopub.execute_input": "2022-10-14T07:06:58.183195Z",
     "iopub.status.busy": "2022-10-14T07:06:58.182770Z",
     "iopub.status.idle": "2022-10-14T07:06:58.210140Z",
     "shell.execute_reply": "2022-10-14T07:06:58.208811Z"
    },
    "papermill": {
     "duration": 0.048415,
     "end_time": "2022-10-14T07:06:58.212780",
     "exception": false,
     "start_time": "2022-10-14T07:06:58.164365",
     "status": "completed"
    },
    "tags": []
   },
   "outputs": [
    {
     "name": "stdout",
     "output_type": "stream",
     "text": [
      "<class 'pandas.core.frame.DataFrame'>\n",
      "RangeIndex: 200 entries, 0 to 199\n",
      "Data columns (total 15 columns):\n",
      " #   Column          Non-Null Count  Dtype  \n",
      "---  ------          --------------  -----  \n",
      " 0   User ID         200 non-null    int64  \n",
      " 1   Area code       200 non-null    int64  \n",
      " 2   Location        200 non-null    object \n",
      " 3   Gender          200 non-null    object \n",
      " 4   YOB             200 non-null    int64  \n",
      " 5   Marital Status  200 non-null    object \n",
      " 6   Activity        200 non-null    object \n",
      " 7   Budget          200 non-null    int64  \n",
      " 8   Cuisines        200 non-null    object \n",
      " 9   Alcohol         200 non-null    object \n",
      " 10  Smoker          200 non-null    object \n",
      " 11  Food Rating     200 non-null    int64  \n",
      " 12  Service Rating  200 non-null    int64  \n",
      " 13  Overall Rating  200 non-null    float64\n",
      " 14  Often A S       200 non-null    object \n",
      "dtypes: float64(1), int64(6), object(8)\n",
      "memory usage: 23.6+ KB\n"
     ]
    }
   ],
   "source": [
    "df.info()"
   ]
  },
  {
   "cell_type": "markdown",
   "id": "27520ff4",
   "metadata": {
    "papermill": {
     "duration": 0.016623,
     "end_time": "2022-10-14T07:06:58.246393",
     "exception": false,
     "start_time": "2022-10-14T07:06:58.229770",
     "status": "completed"
    },
    "tags": []
   },
   "source": [
    "as we can see there are 7 numeric and 8 categorical variables."
   ]
  },
  {
   "cell_type": "code",
   "execution_count": 7,
   "id": "459b6808",
   "metadata": {
    "execution": {
     "iopub.execute_input": "2022-10-14T07:06:58.282229Z",
     "iopub.status.busy": "2022-10-14T07:06:58.281586Z",
     "iopub.status.idle": "2022-10-14T07:06:58.290965Z",
     "shell.execute_reply": "2022-10-14T07:06:58.289987Z"
    },
    "papermill": {
     "duration": 0.029897,
     "end_time": "2022-10-14T07:06:58.293142",
     "exception": false,
     "start_time": "2022-10-14T07:06:58.263245",
     "status": "completed"
    },
    "tags": []
   },
   "outputs": [],
   "source": [
    "df.loc[df['Location'].apply(lambda x: x.split(',')[-1])=='ny','Location']=df.loc[df['Location'].apply(lambda x: x.split(',')[-1])=='ny','Location'].str.replace('ny','NY')"
   ]
  },
  {
   "cell_type": "code",
   "execution_count": 8,
   "id": "229026a3",
   "metadata": {
    "execution": {
     "iopub.execute_input": "2022-10-14T07:06:58.329615Z",
     "iopub.status.busy": "2022-10-14T07:06:58.328856Z",
     "iopub.status.idle": "2022-10-14T07:06:58.340819Z",
     "shell.execute_reply": "2022-10-14T07:06:58.339839Z"
    },
    "papermill": {
     "duration": 0.032386,
     "end_time": "2022-10-14T07:06:58.342918",
     "exception": false,
     "start_time": "2022-10-14T07:06:58.310532",
     "status": "completed"
    },
    "tags": []
   },
   "outputs": [
    {
     "data": {
      "text/plain": [
       "count    200.000000\n",
       "mean       3.225000\n",
       "std        1.079445\n",
       "min        1.000000\n",
       "25%        2.500000\n",
       "50%        3.000000\n",
       "75%        4.000000\n",
       "max        5.000000\n",
       "Name: Overall Rating, dtype: float64"
      ]
     },
     "execution_count": 8,
     "metadata": {},
     "output_type": "execute_result"
    }
   ],
   "source": [
    "df['Overall Rating'].describe()"
   ]
  },
  {
   "cell_type": "code",
   "execution_count": 9,
   "id": "202ec0b4",
   "metadata": {
    "execution": {
     "iopub.execute_input": "2022-10-14T07:06:58.378627Z",
     "iopub.status.busy": "2022-10-14T07:06:58.377963Z",
     "iopub.status.idle": "2022-10-14T07:06:58.617934Z",
     "shell.execute_reply": "2022-10-14T07:06:58.616812Z"
    },
    "papermill": {
     "duration": 0.260929,
     "end_time": "2022-10-14T07:06:58.620596",
     "exception": false,
     "start_time": "2022-10-14T07:06:58.359667",
     "status": "completed"
    },
    "tags": []
   },
   "outputs": [
    {
     "name": "stderr",
     "output_type": "stream",
     "text": [
      "/opt/conda/lib/python3.7/site-packages/seaborn/distributions.py:2619: FutureWarning: `distplot` is a deprecated function and will be removed in a future version. Please adapt your code to use either `displot` (a figure-level function with similar flexibility) or `histplot` (an axes-level function for histograms).\n",
      "  warnings.warn(msg, FutureWarning)\n"
     ]
    },
    {
     "data": {
      "text/plain": [
       "<AxesSubplot:xlabel='Overall Rating', ylabel='Density'>"
      ]
     },
     "execution_count": 9,
     "metadata": {},
     "output_type": "execute_result"
    },
    {
     "data": {
      "image/png": "[encoded data removed]",
      "text/plain": [
       "<Figure size 432x288 with 1 Axes>"
      ]
     },
     "metadata": {
      "needs_background": "light"
     },
     "output_type": "display_data"
    }
   ],
   "source": [
    "sns.distplot(df['Overall Rating'])"
   ]
  },
  {
   "cell_type": "code",
   "execution_count": 10,
   "id": "595b8e2d",
   "metadata": {
    "execution": {
     "iopub.execute_input": "2022-10-14T07:06:58.658928Z",
     "iopub.status.busy": "2022-10-14T07:06:58.658147Z",
     "iopub.status.idle": "2022-10-14T07:06:58.869958Z",
     "shell.execute_reply": "2022-10-14T07:06:58.868781Z"
    },
    "papermill": {
     "duration": 0.23314,
     "end_time": "2022-10-14T07:06:58.872335",
     "exception": false,
     "start_time": "2022-10-14T07:06:58.639195",
     "status": "completed"
    },
    "tags": []
   },
   "outputs": [
    {
     "data": {
      "text/plain": [
       "<AxesSubplot:ylabel='Frequency'>"
      ]
     },
     "execution_count": 10,
     "metadata": {},
     "output_type": "execute_result"
    },
    {
     "data": {
      "image/png": "[encoded data removed]",
      "text/plain": [
       "<Figure size 432x288 with 1 Axes>"
      ]
     },
     "metadata": {
      "needs_background": "light"
     },
     "output_type": "display_data"
    }
   ],
   "source": [
    "df[['Food Rating','Service Rating']].plot(kind ='hist')"
   ]
  },
  {
   "cell_type": "code",
   "execution_count": 11,
   "id": "48b0cd36",
   "metadata": {
    "execution": {
     "iopub.execute_input": "2022-10-14T07:06:58.911021Z",
     "iopub.status.busy": "2022-10-14T07:06:58.910192Z",
     "iopub.status.idle": "2022-10-14T07:06:58.924271Z",
     "shell.execute_reply": "2022-10-14T07:06:58.923169Z"
    },
    "papermill": {
     "duration": 0.036362,
     "end_time": "2022-10-14T07:06:58.926563",
     "exception": false,
     "start_time": "2022-10-14T07:06:58.890201",
     "status": "completed"
    },
    "tags": []
   },
   "outputs": [
    {
     "data": {
      "text/plain": [
       "Cuisines  Overall Rating\n",
       "Chinese   2.5                4\n",
       "          3.0                4\n",
       "          3.5                4\n",
       "          4.0                4\n",
       "          5.0                3\n",
       "          1.5                2\n",
       "          2.0                2\n",
       "          4.5                1\n",
       "Filipino  3.0                7\n",
       "          3.5                7\n",
       "          4.0                6\n",
       "          2.0                5\n",
       "          2.5                4\n",
       "          1.5                2\n",
       "          5.0                2\n",
       "          1.0                1\n",
       "French    2.5               11\n",
       "          5.0                6\n",
       "          3.0                5\n",
       "          1.5                4\n",
       "          4.0                4\n",
       "          2.0                2\n",
       "          3.5                2\n",
       "Indian    3.5                8\n",
       "          3.0                7\n",
       "          2.5                6\n",
       "          4.0                5\n",
       "          1.0                3\n",
       "          5.0                2\n",
       "          4.5                1\n",
       "Italian   2.5                4\n",
       "          5.0                4\n",
       "          3.5                3\n",
       "          1.0                2\n",
       "          2.0                2\n",
       "          4.0                2\n",
       "          3.0                1\n",
       "Japanese  3.5               10\n",
       "          5.0                7\n",
       "          2.0                5\n",
       "          3.0                4\n",
       "          4.5                4\n",
       "          2.5                3\n",
       "          4.0                3\n",
       "Seafood   3.0                6\n",
       "          2.0                5\n",
       "          5.0                5\n",
       "          1.5                3\n",
       "          4.0                2\n",
       "          3.5                1\n",
       "Name: Overall Rating, dtype: int64"
      ]
     },
     "execution_count": 11,
     "metadata": {},
     "output_type": "execute_result"
    }
   ],
   "source": [
    "df.groupby(['Cuisines'])['Overall Rating'].value_counts()"
   ]
  },
  {
   "cell_type": "markdown",
   "id": "beb00e73",
   "metadata": {
    "papermill": {
     "duration": 0.017835,
     "end_time": "2022-10-14T07:06:58.962585",
     "exception": false,
     "start_time": "2022-10-14T07:06:58.944750",
     "status": "completed"
    },
    "tags": []
   },
   "source": [
    "* the data is slightly biased \n",
    "\n",
    "\n"
   ]
  },
  {
   "cell_type": "code",
   "execution_count": 12,
   "id": "caa2bb05",
   "metadata": {
    "execution": {
     "iopub.execute_input": "2022-10-14T07:06:59.001027Z",
     "iopub.status.busy": "2022-10-14T07:06:58.999671Z",
     "iopub.status.idle": "2022-10-14T07:06:59.009632Z",
     "shell.execute_reply": "2022-10-14T07:06:59.008737Z"
    },
    "papermill": {
     "duration": 0.03124,
     "end_time": "2022-10-14T07:06:59.011782",
     "exception": false,
     "start_time": "2022-10-14T07:06:58.980542",
     "status": "completed"
    },
    "tags": []
   },
   "outputs": [
    {
     "data": {
      "text/plain": [
       "Series([], Name: Location, dtype: object)"
      ]
     },
     "execution_count": 12,
     "metadata": {},
     "output_type": "execute_result"
    }
   ],
   "source": [
    "df.loc[df['Location'].apply(lambda x: x.split(',')[-1])=='ny','Location'].str.replace('ny','NY')"
   ]
  },
  {
   "cell_type": "code",
   "execution_count": 13,
   "id": "4698ac93",
   "metadata": {
    "execution": {
     "iopub.execute_input": "2022-10-14T07:06:59.050518Z",
     "iopub.status.busy": "2022-10-14T07:06:59.049810Z",
     "iopub.status.idle": "2022-10-14T07:06:59.066357Z",
     "shell.execute_reply": "2022-10-14T07:06:59.064869Z"
    },
    "papermill": {
     "duration": 0.038349,
     "end_time": "2022-10-14T07:06:59.068809",
     "exception": false,
     "start_time": "2022-10-14T07:06:59.030460",
     "status": "completed"
    },
    "tags": []
   },
   "outputs": [
    {
     "name": "stderr",
     "output_type": "stream",
     "text": [
      "/opt/conda/lib/python3.7/site-packages/ipykernel_launcher.py:1: DeprecationWarning: `np.object` is a deprecated alias for the builtin `object`. To silence this warning, use `object` by itself. Doing this will not modify any behavior and is safe. \n",
      "Deprecated in NumPy 1.20; for more details and guidance: https://numpy.org/devdocs/release/1.20.0-notes.html#deprecations\n",
      "  \"\"\"Entry point for launching an IPython kernel.\n"
     ]
    },
    {
     "data": {
      "text/html": [
       "<div>\n",
       "<style scoped>\n",
       "    .dataframe tbody tr th:only-of-type {\n",
       "        vertical-align: middle;\n",
       "    }\n",
       "\n",
       "    .dataframe tbody tr th {\n",
       "        vertical-align: top;\n",
       "    }\n",
       "\n",
       "    .dataframe thead th {\n",
       "        text-align: right;\n",
       "    }\n",
       "</style>\n",
       "<table border=\"1\" class=\"dataframe\">\n",
       "  <thead>\n",
       "    <tr style=\"text-align: right;\">\n",
       "      <th></th>\n",
       "      <th>Location</th>\n",
       "      <th>Gender</th>\n",
       "      <th>Marital Status</th>\n",
       "      <th>Activity</th>\n",
       "      <th>Cuisines</th>\n",
       "      <th>Alcohol</th>\n",
       "      <th>Smoker</th>\n",
       "      <th>Often A S</th>\n",
       "    </tr>\n",
       "  </thead>\n",
       "  <tbody>\n",
       "    <tr>\n",
       "      <th>0</th>\n",
       "      <td>Upper East Side,NY</td>\n",
       "      <td>Female</td>\n",
       "      <td>Single</td>\n",
       "      <td>Professional</td>\n",
       "      <td>Japanese</td>\n",
       "      <td>Never</td>\n",
       "      <td>Never</td>\n",
       "      <td>No</td>\n",
       "    </tr>\n",
       "    <tr>\n",
       "      <th>1</th>\n",
       "      <td>St. George,NY</td>\n",
       "      <td>Female</td>\n",
       "      <td>Married</td>\n",
       "      <td>Student</td>\n",
       "      <td>Indian</td>\n",
       "      <td>Never</td>\n",
       "      <td>Socially</td>\n",
       "      <td>No</td>\n",
       "    </tr>\n",
       "    <tr>\n",
       "      <th>2</th>\n",
       "      <td>Upper West Side,NY</td>\n",
       "      <td>Male</td>\n",
       "      <td>Single</td>\n",
       "      <td>Student</td>\n",
       "      <td>Seafood</td>\n",
       "      <td>Often</td>\n",
       "      <td>Often</td>\n",
       "      <td>Yes</td>\n",
       "    </tr>\n",
       "    <tr>\n",
       "      <th>3</th>\n",
       "      <td>Upper East Side,NY</td>\n",
       "      <td>Female</td>\n",
       "      <td>Married</td>\n",
       "      <td>Professional</td>\n",
       "      <td>Japanese</td>\n",
       "      <td>Never</td>\n",
       "      <td>Socially</td>\n",
       "      <td>No</td>\n",
       "    </tr>\n",
       "    <tr>\n",
       "      <th>4</th>\n",
       "      <td>Central Park,NY</td>\n",
       "      <td>Male</td>\n",
       "      <td>Single</td>\n",
       "      <td>Student</td>\n",
       "      <td>Filipino</td>\n",
       "      <td>Socially</td>\n",
       "      <td>Never</td>\n",
       "      <td>No</td>\n",
       "    </tr>\n",
       "  </tbody>\n",
       "</table>\n",
       "</div>"
      ],
      "text/plain": [
       "             Location  Gender Marital Status      Activity  Cuisines  \\\n",
       "0  Upper East Side,NY  Female         Single  Professional  Japanese   \n",
       "1       St. George,NY  Female        Married       Student    Indian   \n",
       "2  Upper West Side,NY    Male         Single       Student   Seafood   \n",
       "3  Upper East Side,NY  Female        Married  Professional  Japanese   \n",
       "4     Central Park,NY    Male         Single       Student  Filipino   \n",
       "\n",
       "   Alcohol     Smoker Often A S  \n",
       "0     Never     Never        No  \n",
       "1     Never  Socially        No  \n",
       "2     Often     Often       Yes  \n",
       "3     Never  Socially        No  \n",
       "4  Socially     Never        No  "
      ]
     },
     "execution_count": 13,
     "metadata": {},
     "output_type": "execute_result"
    }
   ],
   "source": [
    "cat_data=df.select_dtypes(include=[np.object])\n",
    "cat_data.head()"
   ]
  },
  {
   "cell_type": "code",
   "execution_count": 14,
   "id": "db7a7666",
   "metadata": {
    "execution": {
     "iopub.execute_input": "2022-10-14T07:06:59.107493Z",
     "iopub.status.busy": "2022-10-14T07:06:59.107073Z",
     "iopub.status.idle": "2022-10-14T07:06:59.120937Z",
     "shell.execute_reply": "2022-10-14T07:06:59.119840Z"
    },
    "papermill": {
     "duration": 0.035788,
     "end_time": "2022-10-14T07:06:59.122985",
     "exception": false,
     "start_time": "2022-10-14T07:06:59.087197",
     "status": "completed"
    },
    "tags": []
   },
   "outputs": [
    {
     "data": {
      "text/html": [
       "<div>\n",
       "<style scoped>\n",
       "    .dataframe tbody tr th:only-of-type {\n",
       "        vertical-align: middle;\n",
       "    }\n",
       "\n",
       "    .dataframe tbody tr th {\n",
       "        vertical-align: top;\n",
       "    }\n",
       "\n",
       "    .dataframe thead th {\n",
       "        text-align: right;\n",
       "    }\n",
       "</style>\n",
       "<table border=\"1\" class=\"dataframe\">\n",
       "  <thead>\n",
       "    <tr style=\"text-align: right;\">\n",
       "      <th></th>\n",
       "      <th>User ID</th>\n",
       "      <th>Area code</th>\n",
       "      <th>YOB</th>\n",
       "      <th>Budget</th>\n",
       "      <th>Food Rating</th>\n",
       "      <th>Service Rating</th>\n",
       "      <th>Overall Rating</th>\n",
       "    </tr>\n",
       "  </thead>\n",
       "  <tbody>\n",
       "    <tr>\n",
       "      <th>0</th>\n",
       "      <td>1</td>\n",
       "      <td>153</td>\n",
       "      <td>2006</td>\n",
       "      <td>3</td>\n",
       "      <td>5</td>\n",
       "      <td>4</td>\n",
       "      <td>4.5</td>\n",
       "    </tr>\n",
       "    <tr>\n",
       "      <th>1</th>\n",
       "      <td>2</td>\n",
       "      <td>123</td>\n",
       "      <td>1991</td>\n",
       "      <td>3</td>\n",
       "      <td>1</td>\n",
       "      <td>1</td>\n",
       "      <td>1.0</td>\n",
       "    </tr>\n",
       "    <tr>\n",
       "      <th>2</th>\n",
       "      <td>3</td>\n",
       "      <td>122</td>\n",
       "      <td>1977</td>\n",
       "      <td>5</td>\n",
       "      <td>5</td>\n",
       "      <td>5</td>\n",
       "      <td>5.0</td>\n",
       "    </tr>\n",
       "    <tr>\n",
       "      <th>3</th>\n",
       "      <td>4</td>\n",
       "      <td>153</td>\n",
       "      <td>1956</td>\n",
       "      <td>5</td>\n",
       "      <td>3</td>\n",
       "      <td>1</td>\n",
       "      <td>2.0</td>\n",
       "    </tr>\n",
       "    <tr>\n",
       "      <th>4</th>\n",
       "      <td>5</td>\n",
       "      <td>129</td>\n",
       "      <td>1997</td>\n",
       "      <td>4</td>\n",
       "      <td>2</td>\n",
       "      <td>4</td>\n",
       "      <td>3.0</td>\n",
       "    </tr>\n",
       "  </tbody>\n",
       "</table>\n",
       "</div>"
      ],
      "text/plain": [
       "   User ID  Area code   YOB  Budget  Food Rating  Service Rating  \\\n",
       "0        1        153  2006       3            5               4   \n",
       "1        2        123  1991       3            1               1   \n",
       "2        3        122  1977       5            5               5   \n",
       "3        4        153  1956       5            3               1   \n",
       "4        5        129  1997       4            2               4   \n",
       "\n",
       "   Overall Rating  \n",
       "0             4.5  \n",
       "1             1.0  \n",
       "2             5.0  \n",
       "3             2.0  \n",
       "4             3.0  "
      ]
     },
     "execution_count": 14,
     "metadata": {},
     "output_type": "execute_result"
    }
   ],
   "source": [
    "num_data=df.select_dtypes(include=[np.number])\n",
    "num_data.head()"
   ]
  },
  {
   "cell_type": "code",
   "execution_count": 15,
   "id": "139f1ec3",
   "metadata": {
    "execution": {
     "iopub.execute_input": "2022-10-14T07:06:59.161595Z",
     "iopub.status.busy": "2022-10-14T07:06:59.161179Z",
     "iopub.status.idle": "2022-10-14T07:06:59.170581Z",
     "shell.execute_reply": "2022-10-14T07:06:59.169512Z"
    },
    "papermill": {
     "duration": 0.031216,
     "end_time": "2022-10-14T07:06:59.172756",
     "exception": false,
     "start_time": "2022-10-14T07:06:59.141540",
     "status": "completed"
    },
    "tags": []
   },
   "outputs": [
    {
     "data": {
      "text/plain": [
       "5    66\n",
       "2    43\n",
       "1    35\n",
       "3    29\n",
       "4    27\n",
       "Name: Service Rating, dtype: int64"
      ]
     },
     "execution_count": 15,
     "metadata": {},
     "output_type": "execute_result"
    }
   ],
   "source": [
    "df['Service Rating'].value_counts()"
   ]
  },
  {
   "cell_type": "code",
   "execution_count": 16,
   "id": "4dae4d24",
   "metadata": {
    "execution": {
     "iopub.execute_input": "2022-10-14T07:06:59.212436Z",
     "iopub.status.busy": "2022-10-14T07:06:59.211506Z",
     "iopub.status.idle": "2022-10-14T07:06:59.220050Z",
     "shell.execute_reply": "2022-10-14T07:06:59.218982Z"
    },
    "papermill": {
     "duration": 0.030607,
     "end_time": "2022-10-14T07:06:59.222422",
     "exception": false,
     "start_time": "2022-10-14T07:06:59.191815",
     "status": "completed"
    },
    "tags": []
   },
   "outputs": [
    {
     "data": {
      "text/plain": [
       "5    53\n",
       "3    46\n",
       "2    35\n",
       "4    35\n",
       "1    31\n",
       "Name: Food Rating, dtype: int64"
      ]
     },
     "execution_count": 16,
     "metadata": {},
     "output_type": "execute_result"
    }
   ],
   "source": [
    "df['Food Rating'].value_counts()"
   ]
  },
  {
   "cell_type": "markdown",
   "id": "20064d2a",
   "metadata": {
    "papermill": {
     "duration": 0.018455,
     "end_time": "2022-10-14T07:06:59.259883",
     "exception": false,
     "start_time": "2022-10-14T07:06:59.241428",
     "status": "completed"
    },
    "tags": []
   },
   "source": [
    "# Independent Variables(numeric variables)"
   ]
  },
  {
   "cell_type": "code",
   "execution_count": 17,
   "id": "9bdaecdf",
   "metadata": {
    "execution": {
     "iopub.execute_input": "2022-10-14T07:06:59.299586Z",
     "iopub.status.busy": "2022-10-14T07:06:59.298793Z",
     "iopub.status.idle": "2022-10-14T07:06:59.439921Z",
     "shell.execute_reply": "2022-10-14T07:06:59.439078Z"
    },
    "papermill": {
     "duration": 0.163424,
     "end_time": "2022-10-14T07:06:59.442099",
     "exception": false,
     "start_time": "2022-10-14T07:06:59.278675",
     "status": "completed"
    },
    "tags": []
   },
   "outputs": [
    {
     "data": {
      "text/plain": [
       "<AxesSubplot:>"
      ]
     },
     "execution_count": 17,
     "metadata": {},
     "output_type": "execute_result"
    },
    {
     "data": {
      "image/png": "[encoded data removed]",
      "text/plain": [
       "<Figure size 432x288 with 1 Axes>"
      ]
     },
     "metadata": {
      "needs_background": "light"
     },
     "output_type": "display_data"
    }
   ],
   "source": [
    "df['Area code'].hist()"
   ]
  },
  {
   "cell_type": "code",
   "execution_count": 18,
   "id": "65e1b947",
   "metadata": {
    "execution": {
     "iopub.execute_input": "2022-10-14T07:06:59.482720Z",
     "iopub.status.busy": "2022-10-14T07:06:59.481578Z",
     "iopub.status.idle": "2022-10-14T07:06:59.495913Z",
     "shell.execute_reply": "2022-10-14T07:06:59.494800Z"
    },
    "papermill": {
     "duration": 0.037006,
     "end_time": "2022-10-14T07:06:59.498308",
     "exception": false,
     "start_time": "2022-10-14T07:06:59.461302",
     "status": "completed"
    },
    "tags": []
   },
   "outputs": [
    {
     "data": {
      "text/plain": [
       "Location            Cuisines  Food Rating\n",
       "Central Park,NY     Chinese   4              1\n",
       "                              5              1\n",
       "                    Filipino  2              2\n",
       "                              3              2\n",
       "                    French    5              2\n",
       "                              4              1\n",
       "                    Indian    2              2\n",
       "                              1              1\n",
       "                              3              1\n",
       "                    Italian   5              1\n",
       "                    Japanese  4              2\n",
       "                              5              1\n",
       "                    Seafood   2              1\n",
       "                              3              1\n",
       "Riverdale,NY        Italian   5              1\n",
       "St. George,NY       Chinese   3              1\n",
       "                              5              1\n",
       "                    Filipino  3              4\n",
       "                              1              2\n",
       "                              4              1\n",
       "                    French    3              3\n",
       "                              1              1\n",
       "                              5              1\n",
       "                    Indian    5              3\n",
       "                              1              2\n",
       "                    Italian   4              1\n",
       "                              5              1\n",
       "                    Japanese  4              3\n",
       "                              5              2\n",
       "                              3              1\n",
       "Upper East Side,NY  Japanese  3              1\n",
       "Upper West Side,NY  Chinese   1              1\n",
       "                    Filipino  3              1\n",
       "                    French    2              1\n",
       "                              5              1\n",
       "                    Indian    3              1\n",
       "                    Italian   2              1\n",
       "                    Japanese  5              2\n",
       "                    Seafood   1              1\n",
       "                              5              1\n",
       "Name: Food Rating, dtype: int64"
      ]
     },
     "execution_count": 18,
     "metadata": {},
     "output_type": "execute_result"
    }
   ],
   "source": [
    "area1=df[(df['Area code']>=120) & (df['Area code']<=130)]\n",
    "area1.groupby(['Location','Cuisines'])['Food Rating'].value_counts()"
   ]
  },
  {
   "cell_type": "code",
   "execution_count": 19,
   "id": "a303a00a",
   "metadata": {
    "execution": {
     "iopub.execute_input": "2022-10-14T07:06:59.538474Z",
     "iopub.status.busy": "2022-10-14T07:06:59.538042Z",
     "iopub.status.idle": "2022-10-14T07:06:59.688707Z",
     "shell.execute_reply": "2022-10-14T07:06:59.687193Z"
    },
    "papermill": {
     "duration": 0.174091,
     "end_time": "2022-10-14T07:06:59.691484",
     "exception": false,
     "start_time": "2022-10-14T07:06:59.517393",
     "status": "completed"
    },
    "tags": []
   },
   "outputs": [
    {
     "data": {
      "text/plain": [
       "<AxesSubplot:>"
      ]
     },
     "execution_count": 19,
     "metadata": {},
     "output_type": "execute_result"
    },
    {
     "data": {
      "image/png": "[encoded data removed]",
      "text/plain": [
       "<Figure size 432x288 with 1 Axes>"
      ]
     },
     "metadata": {
      "needs_background": "light"
     },
     "output_type": "display_data"
    }
   ],
   "source": [
    "df['Food Rating'].hist()"
   ]
  },
  {
   "cell_type": "code",
   "execution_count": 20,
   "id": "f45e3dae",
   "metadata": {
    "execution": {
     "iopub.execute_input": "2022-10-14T07:06:59.734059Z",
     "iopub.status.busy": "2022-10-14T07:06:59.733320Z",
     "iopub.status.idle": "2022-10-14T07:06:59.743302Z",
     "shell.execute_reply": "2022-10-14T07:06:59.742333Z"
    },
    "papermill": {
     "duration": 0.033795,
     "end_time": "2022-10-14T07:06:59.745396",
     "exception": false,
     "start_time": "2022-10-14T07:06:59.711601",
     "status": "completed"
    },
    "tags": []
   },
   "outputs": [
    {
     "data": {
      "text/plain": [
       "Food Rating  Cuisines\n",
       "5            Japanese    13\n",
       "             French       8\n",
       "             Chinese      7\n",
       "             Indian       7\n",
       "             Italian      7\n",
       "             Seafood      6\n",
       "             Filipino     5\n",
       "Name: Cuisines, dtype: int64"
      ]
     },
     "execution_count": 20,
     "metadata": {},
     "output_type": "execute_result"
    }
   ],
   "source": [
    "f1=df[df['Food Rating']>=4.5]\n",
    "f1.groupby('Food Rating')['Cuisines'].value_counts()"
   ]
  },
  {
   "cell_type": "code",
   "execution_count": 21,
   "id": "c25bda01",
   "metadata": {
    "execution": {
     "iopub.execute_input": "2022-10-14T07:06:59.787014Z",
     "iopub.status.busy": "2022-10-14T07:06:59.786311Z",
     "iopub.status.idle": "2022-10-14T07:07:00.003919Z",
     "shell.execute_reply": "2022-10-14T07:07:00.002822Z"
    },
    "papermill": {
     "duration": 0.241103,
     "end_time": "2022-10-14T07:07:00.006381",
     "exception": false,
     "start_time": "2022-10-14T07:06:59.765278",
     "status": "completed"
    },
    "tags": []
   },
   "outputs": [
    {
     "data": {
      "text/plain": [
       "<AxesSubplot:>"
      ]
     },
     "execution_count": 21,
     "metadata": {},
     "output_type": "execute_result"
    },
    {
     "data": {
      "image/png": "[encoded data removed]",
      "text/plain": [
       "<Figure size 432x288 with 1 Axes>"
      ]
     },
     "metadata": {
      "needs_background": "light"
     },
     "output_type": "display_data"
    }
   ],
   "source": [
    "df['Service Rating'].hist()"
   ]
  },
  {
   "cell_type": "code",
   "execution_count": 22,
   "id": "65f79177",
   "metadata": {
    "execution": {
     "iopub.execute_input": "2022-10-14T07:07:00.048570Z",
     "iopub.status.busy": "2022-10-14T07:07:00.047773Z",
     "iopub.status.idle": "2022-10-14T07:07:00.262103Z",
     "shell.execute_reply": "2022-10-14T07:07:00.260556Z"
    },
    "papermill": {
     "duration": 0.238512,
     "end_time": "2022-10-14T07:07:00.265088",
     "exception": false,
     "start_time": "2022-10-14T07:07:00.026576",
     "status": "completed"
    },
    "tags": []
   },
   "outputs": [
    {
     "data": {
      "text/plain": [
       "<AxesSubplot:>"
      ]
     },
     "execution_count": 22,
     "metadata": {},
     "output_type": "execute_result"
    },
    {
     "data": {
      "image/png": "[encoded data removed]",
      "text/plain": [
       "<Figure size 432x288 with 1 Axes>"
      ]
     },
     "metadata": {
      "needs_background": "light"
     },
     "output_type": "display_data"
    }
   ],
   "source": [
    "df['YOB'].hist()"
   ]
  },
  {
   "cell_type": "code",
   "execution_count": 23,
   "id": "06d6a03a",
   "metadata": {
    "execution": {
     "iopub.execute_input": "2022-10-14T07:07:00.307091Z",
     "iopub.status.busy": "2022-10-14T07:07:00.306669Z",
     "iopub.status.idle": "2022-10-14T07:07:00.529291Z",
     "shell.execute_reply": "2022-10-14T07:07:00.528242Z"
    },
    "papermill": {
     "duration": 0.246396,
     "end_time": "2022-10-14T07:07:00.531751",
     "exception": false,
     "start_time": "2022-10-14T07:07:00.285355",
     "status": "completed"
    },
    "tags": []
   },
   "outputs": [
    {
     "data": {
      "text/plain": [
       "<AxesSubplot:>"
      ]
     },
     "execution_count": 23,
     "metadata": {},
     "output_type": "execute_result"
    },
    {
     "data": {
      "image/png": "[encoded data removed]",
      "text/plain": [
       "<Figure size 432x288 with 1 Axes>"
      ]
     },
     "metadata": {
      "needs_background": "light"
     },
     "output_type": "display_data"
    }
   ],
   "source": [
    "df['Budget'].hist()"
   ]
  },
  {
   "cell_type": "markdown",
   "id": "0a371b84",
   "metadata": {
    "papermill": {
     "duration": 0.020368,
     "end_time": "2022-10-14T07:07:00.573201",
     "exception": false,
     "start_time": "2022-10-14T07:07:00.552833",
     "status": "completed"
    },
    "tags": []
   },
   "source": [
    "# Independent Variables (categorical variables)"
   ]
  },
  {
   "cell_type": "code",
   "execution_count": 24,
   "id": "d86d50ed",
   "metadata": {
    "execution": {
     "iopub.execute_input": "2022-10-14T07:07:00.616416Z",
     "iopub.status.busy": "2022-10-14T07:07:00.616000Z",
     "iopub.status.idle": "2022-10-14T07:07:00.843732Z",
     "shell.execute_reply": "2022-10-14T07:07:00.842600Z"
    },
    "papermill": {
     "duration": 0.252193,
     "end_time": "2022-10-14T07:07:00.846175",
     "exception": false,
     "start_time": "2022-10-14T07:07:00.593982",
     "status": "completed"
    },
    "tags": []
   },
   "outputs": [
    {
     "data": {
      "text/plain": [
       "<AxesSubplot:xlabel='Cuisines', ylabel='count'>"
      ]
     },
     "execution_count": 24,
     "metadata": {},
     "output_type": "execute_result"
    },
    {
     "data": {
      "image/png": "[encoded data removed]",
      "text/plain": [
       "<Figure size 720x432 with 1 Axes>"
      ]
     },
     "metadata": {
      "needs_background": "light"
     },
     "output_type": "display_data"
    }
   ],
   "source": [
    "plt.figure(figsize=(10,6))\n",
    "sns.countplot(x=df['Cuisines'])\n"
   ]
  },
  {
   "cell_type": "code",
   "execution_count": 25,
   "id": "ad702a1f",
   "metadata": {
    "execution": {
     "iopub.execute_input": "2022-10-14T07:07:00.890512Z",
     "iopub.status.busy": "2022-10-14T07:07:00.890065Z",
     "iopub.status.idle": "2022-10-14T07:07:00.904950Z",
     "shell.execute_reply": "2022-10-14T07:07:00.903868Z"
    },
    "papermill": {
     "duration": 0.039702,
     "end_time": "2022-10-14T07:07:00.906949",
     "exception": false,
     "start_time": "2022-10-14T07:07:00.867247",
     "status": "completed"
    },
    "tags": []
   },
   "outputs": [
    {
     "data": {
      "text/plain": [
       "Location            Cuisines  Food Rating\n",
       "Central Park,NY     Filipino  2              4\n",
       "                              3              4\n",
       "                    French    5              4\n",
       "                              4              2\n",
       "                    Japanese  4              3\n",
       "                              5              1\n",
       "China Town, NY      Filipino  1              2\n",
       "                    French    3              4\n",
       "Market City, NY     Filipino  5              2\n",
       "                    French    2              2\n",
       "                              4              2\n",
       "                    Japanese  4              3\n",
       "                              5              3\n",
       "Riverdale,NY        Filipino  1              3\n",
       "                              5              2\n",
       "                              2              1\n",
       "                    French    2              2\n",
       "                    Japanese  2              3\n",
       "                              4              2\n",
       "                              5              2\n",
       "                              1              1\n",
       "St. George,NY       Filipino  3              6\n",
       "                              1              4\n",
       "                              4              2\n",
       "                    French    3              4\n",
       "                              1              2\n",
       "                              5              2\n",
       "                    Japanese  4              4\n",
       "                              5              4\n",
       "                              3              2\n",
       "Upper East Side,NY  Filipino  4              1\n",
       "                              5              1\n",
       "                    French    2              2\n",
       "                              3              2\n",
       "                              4              2\n",
       "                    Japanese  3              2\n",
       "                              1              1\n",
       "                              2              1\n",
       "                              4              1\n",
       "                              5              1\n",
       "Upper West Side,NY  Filipino  3              2\n",
       "                    French    2              2\n",
       "                              5              2\n",
       "                    Japanese  5              2\n",
       "Name: Food Rating, dtype: int64"
      ]
     },
     "execution_count": 25,
     "metadata": {},
     "output_type": "execute_result"
    }
   ],
   "source": [
    "c=df[((df['Cuisines']=='Japanese') | (df['Cuisines']=='Filipino')| (df['Cuisines']=='French'))]\n",
    "c.groupby(['Location','Cuisines'])['Food Rating'].value_counts()"
   ]
  },
  {
   "cell_type": "code",
   "execution_count": 26,
   "id": "6c14722a",
   "metadata": {
    "execution": {
     "iopub.execute_input": "2022-10-14T07:07:00.951492Z",
     "iopub.status.busy": "2022-10-14T07:07:00.950770Z",
     "iopub.status.idle": "2022-10-14T07:07:01.194850Z",
     "shell.execute_reply": "2022-10-14T07:07:01.193649Z"
    },
    "papermill": {
     "duration": 0.269251,
     "end_time": "2022-10-14T07:07:01.197587",
     "exception": false,
     "start_time": "2022-10-14T07:07:00.928336",
     "status": "completed"
    },
    "tags": []
   },
   "outputs": [
    {
     "data": {
      "text/plain": [
       "<AxesSubplot:xlabel='Location', ylabel='count'>"
      ]
     },
     "execution_count": 26,
     "metadata": {},
     "output_type": "execute_result"
    },
    {
     "data": {
      "image/png": "[encoded data removed]",
      "text/plain": [
       "<Figure size 1440x576 with 1 Axes>"
      ]
     },
     "metadata": {
      "needs_background": "light"
     },
     "output_type": "display_data"
    }
   ],
   "source": [
    "plt.figure(figsize=(20,8))\n",
    "sns.countplot(x=df['Location'])"
   ]
  },
  {
   "cell_type": "code",
   "execution_count": 27,
   "id": "6e0cc611",
   "metadata": {
    "execution": {
     "iopub.execute_input": "2022-10-14T07:07:01.243303Z",
     "iopub.status.busy": "2022-10-14T07:07:01.242320Z",
     "iopub.status.idle": "2022-10-14T07:07:01.469033Z",
     "shell.execute_reply": "2022-10-14T07:07:01.468121Z"
    },
    "papermill": {
     "duration": 0.252302,
     "end_time": "2022-10-14T07:07:01.471624",
     "exception": false,
     "start_time": "2022-10-14T07:07:01.219322",
     "status": "completed"
    },
    "tags": []
   },
   "outputs": [
    {
     "data": {
      "text/plain": [
       "<AxesSubplot:xlabel='Location,Overall Rating'>"
      ]
     },
     "execution_count": 27,
     "metadata": {},
     "output_type": "execute_result"
    },
    {
     "data": {
      "image/png": "[encoded data removed]",
      "text/plain": [
       "<Figure size 432x288 with 1 Axes>"
      ]
     },
     "metadata": {
      "needs_background": "light"
     },
     "output_type": "display_data"
    }
   ],
   "source": [
    "l1=df[df['Location']=='St. George,NY']\n",
    "l1.groupby('Location')['Overall Rating'].value_counts().plot(kind='bar',cmap='PRGn')"
   ]
  },
  {
   "cell_type": "code",
   "execution_count": 28,
   "id": "29cf360c",
   "metadata": {
    "execution": {
     "iopub.execute_input": "2022-10-14T07:07:01.517099Z",
     "iopub.status.busy": "2022-10-14T07:07:01.516708Z",
     "iopub.status.idle": "2022-10-14T07:07:01.686796Z",
     "shell.execute_reply": "2022-10-14T07:07:01.685601Z"
    },
    "papermill": {
     "duration": 0.195895,
     "end_time": "2022-10-14T07:07:01.689463",
     "exception": false,
     "start_time": "2022-10-14T07:07:01.493568",
     "status": "completed"
    },
    "tags": []
   },
   "outputs": [
    {
     "data": {
      "text/plain": [
       "<AxesSubplot:xlabel='Gender', ylabel='count'>"
      ]
     },
     "execution_count": 28,
     "metadata": {},
     "output_type": "execute_result"
    },
    {
     "data": {
      "image/png": "[encoded data removed]",
      "text/plain": [
       "<Figure size 432x288 with 1 Axes>"
      ]
     },
     "metadata": {
      "needs_background": "light"
     },
     "output_type": "display_data"
    }
   ],
   "source": [
    "sns.countplot(x=df['Gender'],palette='CMRmap')"
   ]
  },
  {
   "cell_type": "code",
   "execution_count": 29,
   "id": "03be3dcc",
   "metadata": {
    "execution": {
     "iopub.execute_input": "2022-10-14T07:07:01.742030Z",
     "iopub.status.busy": "2022-10-14T07:07:01.741029Z",
     "iopub.status.idle": "2022-10-14T07:07:01.950305Z",
     "shell.execute_reply": "2022-10-14T07:07:01.949331Z"
    },
    "papermill": {
     "duration": 0.2377,
     "end_time": "2022-10-14T07:07:01.952391",
     "exception": false,
     "start_time": "2022-10-14T07:07:01.714691",
     "status": "completed"
    },
    "tags": []
   },
   "outputs": [
    {
     "data": {
      "text/plain": [
       "<AxesSubplot:xlabel='Gender,Marital Status'>"
      ]
     },
     "execution_count": 29,
     "metadata": {},
     "output_type": "execute_result"
    },
    {
     "data": {
      "image/png": "[encoded data removed]",
      "text/plain": [
       "<Figure size 432x288 with 1 Axes>"
      ]
     },
     "metadata": {
      "needs_background": "light"
     },
     "output_type": "display_data"
    }
   ],
   "source": [
    "df.groupby('Gender')['Marital Status'].value_counts().plot(kind='bar',cmap='PRGn')"
   ]
  },
  {
   "cell_type": "code",
   "execution_count": 30,
   "id": "69521a6d",
   "metadata": {
    "execution": {
     "iopub.execute_input": "2022-10-14T07:07:02.000743Z",
     "iopub.status.busy": "2022-10-14T07:07:01.999898Z",
     "iopub.status.idle": "2022-10-14T07:07:02.202797Z",
     "shell.execute_reply": "2022-10-14T07:07:02.201939Z"
    },
    "papermill": {
     "duration": 0.229831,
     "end_time": "2022-10-14T07:07:02.205227",
     "exception": false,
     "start_time": "2022-10-14T07:07:01.975396",
     "status": "completed"
    },
    "tags": []
   },
   "outputs": [
    {
     "data": {
      "text/plain": [
       "<AxesSubplot:xlabel='Gender,Activity'>"
      ]
     },
     "execution_count": 30,
     "metadata": {},
     "output_type": "execute_result"
    },
    {
     "data": {
      "image/png": "[encoded data removed]",
      "text/plain": [
       "<Figure size 432x288 with 1 Axes>"
      ]
     },
     "metadata": {
      "needs_background": "light"
     },
     "output_type": "display_data"
    }
   ],
   "source": [
    "df.groupby('Gender')['Activity'].value_counts().plot(kind='bar',cmap='PRGn')"
   ]
  },
  {
   "cell_type": "code",
   "execution_count": 31,
   "id": "7bceecf9",
   "metadata": {
    "execution": {
     "iopub.execute_input": "2022-10-14T07:07:02.254542Z",
     "iopub.status.busy": "2022-10-14T07:07:02.253697Z",
     "iopub.status.idle": "2022-10-14T07:07:02.428509Z",
     "shell.execute_reply": "2022-10-14T07:07:02.427125Z"
    },
    "papermill": {
     "duration": 0.202182,
     "end_time": "2022-10-14T07:07:02.430976",
     "exception": false,
     "start_time": "2022-10-14T07:07:02.228794",
     "status": "completed"
    },
    "tags": []
   },
   "outputs": [
    {
     "data": {
      "text/plain": [
       "<AxesSubplot:xlabel='Marital Status', ylabel='count'>"
      ]
     },
     "execution_count": 31,
     "metadata": {},
     "output_type": "execute_result"
    },
    {
     "data": {
      "image/png": "[encoded data removed]",
      "text/plain": [
       "<Figure size 432x288 with 1 Axes>"
      ]
     },
     "metadata": {
      "needs_background": "light"
     },
     "output_type": "display_data"
    }
   ],
   "source": [
    "sns.countplot(x=df['Marital Status'],palette='CMRmap')"
   ]
  },
  {
   "cell_type": "code",
   "execution_count": 32,
   "id": "b2a6be04",
   "metadata": {
    "execution": {
     "iopub.execute_input": "2022-10-14T07:07:02.479314Z",
     "iopub.status.busy": "2022-10-14T07:07:02.478901Z",
     "iopub.status.idle": "2022-10-14T07:07:02.656042Z",
     "shell.execute_reply": "2022-10-14T07:07:02.655107Z"
    },
    "papermill": {
     "duration": 0.203907,
     "end_time": "2022-10-14T07:07:02.658366",
     "exception": false,
     "start_time": "2022-10-14T07:07:02.454459",
     "status": "completed"
    },
    "tags": []
   },
   "outputs": [
    {
     "data": {
      "text/plain": [
       "<AxesSubplot:xlabel='Activity', ylabel='count'>"
      ]
     },
     "execution_count": 32,
     "metadata": {},
     "output_type": "execute_result"
    },
    {
     "data": {
      "image/png": "[encoded data removed]",
      "text/plain": [
       "<Figure size 432x288 with 1 Axes>"
      ]
     },
     "metadata": {
      "needs_background": "light"
     },
     "output_type": "display_data"
    }
   ],
   "source": [
    "sns.countplot(x=df['Activity'],palette='CMRmap')"
   ]
  },
  {
   "cell_type": "code",
   "execution_count": 33,
   "id": "4656025b",
   "metadata": {
    "execution": {
     "iopub.execute_input": "2022-10-14T07:07:02.714379Z",
     "iopub.status.busy": "2022-10-14T07:07:02.713957Z",
     "iopub.status.idle": "2022-10-14T07:07:02.898179Z",
     "shell.execute_reply": "2022-10-14T07:07:02.897019Z"
    },
    "papermill": {
     "duration": 0.213537,
     "end_time": "2022-10-14T07:07:02.900687",
     "exception": false,
     "start_time": "2022-10-14T07:07:02.687150",
     "status": "completed"
    },
    "tags": []
   },
   "outputs": [
    {
     "data": {
      "text/plain": [
       "<AxesSubplot:xlabel='Smoker', ylabel='count'>"
      ]
     },
     "execution_count": 33,
     "metadata": {},
     "output_type": "execute_result"
    },
    {
     "data": {
      "image/png": "[encoded data removed]",
      "text/plain": [
       "<Figure size 432x288 with 1 Axes>"
      ]
     },
     "metadata": {
      "needs_background": "light"
     },
     "output_type": "display_data"
    }
   ],
   "source": [
    "sns.countplot(x=df['Smoker'],palette='CMRmap')\n"
   ]
  },
  {
   "cell_type": "code",
   "execution_count": 34,
   "id": "fdce1e19",
   "metadata": {
    "execution": {
     "iopub.execute_input": "2022-10-14T07:07:02.960152Z",
     "iopub.status.busy": "2022-10-14T07:07:02.950365Z",
     "iopub.status.idle": "2022-10-14T07:07:03.275988Z",
     "shell.execute_reply": "2022-10-14T07:07:03.274854Z"
    },
    "papermill": {
     "duration": 0.353827,
     "end_time": "2022-10-14T07:07:03.278832",
     "exception": false,
     "start_time": "2022-10-14T07:07:02.925005",
     "status": "completed"
    },
    "tags": []
   },
   "outputs": [
    {
     "data": {
      "text/plain": [
       "<AxesSubplot:xlabel='Often A S', ylabel='count'>"
      ]
     },
     "execution_count": 34,
     "metadata": {},
     "output_type": "execute_result"
    },
    {
     "data": {
      "image/png": "[encoded data removed]",
      "text/plain": [
       "<Figure size 432x288 with 1 Axes>"
      ]
     },
     "metadata": {
      "needs_background": "light"
     },
     "output_type": "display_data"
    }
   ],
   "source": [
    "sns.countplot(x=df['Often A S'],palette='CMRmap')"
   ]
  },
  {
   "cell_type": "markdown",
   "id": "f3329ab5",
   "metadata": {
    "papermill": {
     "duration": 0.024017,
     "end_time": "2022-10-14T07:07:03.332295",
     "exception": false,
     "start_time": "2022-10-14T07:07:03.308278",
     "status": "completed"
    },
    "tags": []
   },
   "source": [
    "* obervations\n",
    "1. most of the customers are students or unmarried male\n",
    "2. we can see most of the restaurants are from the location St. George,NY."
   ]
  },
  {
   "cell_type": "markdown",
   "id": "e96a9218",
   "metadata": {
    "papermill": {
     "duration": 0.023536,
     "end_time": "2022-10-14T07:07:03.380210",
     "exception": false,
     "start_time": "2022-10-14T07:07:03.356674",
     "status": "completed"
    },
    "tags": []
   },
   "source": [
    "# Target Variable vs Independent Numerical Variables¶\n"
   ]
  },
  {
   "cell_type": "code",
   "execution_count": 35,
   "id": "c5a0d70c",
   "metadata": {
    "execution": {
     "iopub.execute_input": "2022-10-14T07:07:03.430449Z",
     "iopub.status.busy": "2022-10-14T07:07:03.430017Z",
     "iopub.status.idle": "2022-10-14T07:07:03.668376Z",
     "shell.execute_reply": "2022-10-14T07:07:03.665908Z"
    },
    "papermill": {
     "duration": 0.267628,
     "end_time": "2022-10-14T07:07:03.672418",
     "exception": false,
     "start_time": "2022-10-14T07:07:03.404790",
     "status": "completed"
    },
    "tags": []
   },
   "outputs": [
    {
     "data": {
      "text/plain": [
       "<AxesSubplot:xlabel='Food Rating', ylabel='Overall Rating'>"
      ]
     },
     "execution_count": 35,
     "metadata": {},
     "output_type": "execute_result"
    },
    {
     "data": {
      "image/png": "[encoded data removed]",
      "text/plain": [
       "<Figure size 432x288 with 1 Axes>"
      ]
     },
     "metadata": {
      "needs_background": "light"
     },
     "output_type": "display_data"
    }
   ],
   "source": [
    "sns.scatterplot(x=df['Food Rating'],y=df['Overall Rating'])"
   ]
  },
  {
   "cell_type": "code",
   "execution_count": 36,
   "id": "da6f9766",
   "metadata": {
    "execution": {
     "iopub.execute_input": "2022-10-14T07:07:03.728297Z",
     "iopub.status.busy": "2022-10-14T07:07:03.727831Z",
     "iopub.status.idle": "2022-10-14T07:07:03.963602Z",
     "shell.execute_reply": "2022-10-14T07:07:03.962481Z"
    },
    "papermill": {
     "duration": 0.266184,
     "end_time": "2022-10-14T07:07:03.965890",
     "exception": false,
     "start_time": "2022-10-14T07:07:03.699706",
     "status": "completed"
    },
    "tags": []
   },
   "outputs": [
    {
     "data": {
      "text/plain": [
       "<AxesSubplot:xlabel='Service Rating', ylabel='Overall Rating'>"
      ]
     },
     "execution_count": 36,
     "metadata": {},
     "output_type": "execute_result"
    },
    {
     "data": {
      "image/png": "[encoded data removed]",
      "text/plain": [
       "<Figure size 432x288 with 1 Axes>"
      ]
     },
     "metadata": {
      "needs_background": "light"
     },
     "output_type": "display_data"
    }
   ],
   "source": [
    "sns.scatterplot(x=df['Service Rating'],y=df['Overall Rating'])"
   ]
  },
  {
   "cell_type": "markdown",
   "id": "abe347ee",
   "metadata": {
    "papermill": {
     "duration": 0.024746,
     "end_time": "2022-10-14T07:07:04.015474",
     "exception": false,
     "start_time": "2022-10-14T07:07:03.990728",
     "status": "completed"
    },
    "tags": []
   },
   "source": [
    "* observations\n",
    "1.  Overall rating is increasing with increrase in service and food rating."
   ]
  },
  {
   "cell_type": "markdown",
   "id": "df687761",
   "metadata": {
    "papermill": {
     "duration": 0.024189,
     "end_time": "2022-10-14T07:07:04.064319",
     "exception": false,
     "start_time": "2022-10-14T07:07:04.040130",
     "status": "completed"
    },
    "tags": []
   },
   "source": [
    "# Target Variable vs Independent Categorical Variables"
   ]
  },
  {
   "cell_type": "code",
   "execution_count": 37,
   "id": "4c8516ab",
   "metadata": {
    "execution": {
     "iopub.execute_input": "2022-10-14T07:07:04.115909Z",
     "iopub.status.busy": "2022-10-14T07:07:04.115485Z",
     "iopub.status.idle": "2022-10-14T07:07:04.499137Z",
     "shell.execute_reply": "2022-10-14T07:07:04.498270Z"
    },
    "papermill": {
     "duration": 0.411871,
     "end_time": "2022-10-14T07:07:04.501308",
     "exception": false,
     "start_time": "2022-10-14T07:07:04.089437",
     "status": "completed"
    },
    "tags": []
   },
   "outputs": [
    {
     "data": {
      "text/plain": [
       "<AxesSubplot:xlabel='Location', ylabel='Overall Rating'>"
      ]
     },
     "execution_count": 37,
     "metadata": {},
     "output_type": "execute_result"
    },
    {
     "data": {
      "image/png": "[encoded data removed]",
      "text/plain": [
       "<Figure size 1296x576 with 1 Axes>"
      ]
     },
     "metadata": {
      "needs_background": "light"
     },
     "output_type": "display_data"
    }
   ],
   "source": [
    "plt.figure(figsize=(18,8))\n",
    "sns.violinplot(x=df['Location'],y=df['Overall Rating'])"
   ]
  },
  {
   "cell_type": "code",
   "execution_count": 38,
   "id": "c0ed2913",
   "metadata": {
    "execution": {
     "iopub.execute_input": "2022-10-14T07:07:04.555656Z",
     "iopub.status.busy": "2022-10-14T07:07:04.554581Z",
     "iopub.status.idle": "2022-10-14T07:07:04.889780Z",
     "shell.execute_reply": "2022-10-14T07:07:04.888663Z"
    },
    "papermill": {
     "duration": 0.364814,
     "end_time": "2022-10-14T07:07:04.892239",
     "exception": false,
     "start_time": "2022-10-14T07:07:04.527425",
     "status": "completed"
    },
    "tags": []
   },
   "outputs": [
    {
     "data": {
      "text/plain": [
       "<AxesSubplot:xlabel='Cuisines', ylabel='Overall Rating'>"
      ]
     },
     "execution_count": 38,
     "metadata": {},
     "output_type": "execute_result"
    },
    {
     "data": {
      "image/png": "[encoded data removed]",
      "text/plain": [
       "<Figure size 432x288 with 1 Axes>"
      ]
     },
     "metadata": {
      "needs_background": "light"
     },
     "output_type": "display_data"
    }
   ],
   "source": [
    "sns.violinplot(x=df['Cuisines'],y=df['Overall Rating'],hue=df['Gender'],split=True,palette='CMRmap')"
   ]
  },
  {
   "cell_type": "code",
   "execution_count": 39,
   "id": "227873a5",
   "metadata": {
    "execution": {
     "iopub.execute_input": "2022-10-14T07:07:04.948206Z",
     "iopub.status.busy": "2022-10-14T07:07:04.947825Z",
     "iopub.status.idle": "2022-10-14T07:07:05.185903Z",
     "shell.execute_reply": "2022-10-14T07:07:05.184795Z"
    },
    "papermill": {
     "duration": 0.268762,
     "end_time": "2022-10-14T07:07:05.188268",
     "exception": false,
     "start_time": "2022-10-14T07:07:04.919506",
     "status": "completed"
    },
    "tags": []
   },
   "outputs": [
    {
     "data": {
      "text/plain": [
       "<AxesSubplot:xlabel='Activity', ylabel='Overall Rating'>"
      ]
     },
     "execution_count": 39,
     "metadata": {},
     "output_type": "execute_result"
    },
    {
     "data": {
      "image/png": "[encoded data removed]",
      "text/plain": [
       "<Figure size 432x288 with 1 Axes>"
      ]
     },
     "metadata": {
      "needs_background": "light"
     },
     "output_type": "display_data"
    }
   ],
   "source": [
    "sns.violinplot(x=df['Activity'],y=df['Overall Rating'],hue=df['Often A S'],split=True,palette='CMRmap')"
   ]
  },
  {
   "cell_type": "markdown",
   "id": "32a0d29c",
   "metadata": {
    "papermill": {
     "duration": 0.02649,
     "end_time": "2022-10-14T07:07:05.242424",
     "exception": false,
     "start_time": "2022-10-14T07:07:05.215934",
     "status": "completed"
    },
    "tags": []
   },
   "source": [
    "# Missing Data"
   ]
  },
  {
   "cell_type": "code",
   "execution_count": 40,
   "id": "560bb7b0",
   "metadata": {
    "execution": {
     "iopub.execute_input": "2022-10-14T07:07:05.299568Z",
     "iopub.status.busy": "2022-10-14T07:07:05.298728Z",
     "iopub.status.idle": "2022-10-14T07:07:05.309558Z",
     "shell.execute_reply": "2022-10-14T07:07:05.308341Z"
    },
    "papermill": {
     "duration": 0.042403,
     "end_time": "2022-10-14T07:07:05.311875",
     "exception": false,
     "start_time": "2022-10-14T07:07:05.269472",
     "status": "completed"
    },
    "tags": []
   },
   "outputs": [
    {
     "data": {
      "text/plain": [
       "User ID           0\n",
       "Area code         0\n",
       "Location          0\n",
       "Gender            0\n",
       "YOB               0\n",
       "Marital Status    0\n",
       "Activity          0\n",
       "Budget            0\n",
       "Cuisines          0\n",
       "Alcohol           0\n",
       "Smoker            0\n",
       "Food Rating       0\n",
       "Service Rating    0\n",
       "Overall Rating    0\n",
       "Often A S         0\n",
       "dtype: int64"
      ]
     },
     "execution_count": 40,
     "metadata": {},
     "output_type": "execute_result"
    }
   ],
   "source": [
    "df.isnull().sum()"
   ]
  },
  {
   "cell_type": "markdown",
   "id": "3944013f",
   "metadata": {
    "papermill": {
     "duration": 0.027073,
     "end_time": "2022-10-14T07:07:05.366524",
     "exception": false,
     "start_time": "2022-10-14T07:07:05.339451",
     "status": "completed"
    },
    "tags": []
   },
   "source": [
    "There is 0 null values in this dataset"
   ]
  },
  {
   "cell_type": "code",
   "execution_count": 41,
   "id": "6ea57f43",
   "metadata": {
    "execution": {
     "iopub.execute_input": "2022-10-14T07:07:05.423691Z",
     "iopub.status.busy": "2022-10-14T07:07:05.422990Z",
     "iopub.status.idle": "2022-10-14T07:07:05.679426Z",
     "shell.execute_reply": "2022-10-14T07:07:05.678253Z"
    },
    "papermill": {
     "duration": 0.287897,
     "end_time": "2022-10-14T07:07:05.681958",
     "exception": false,
     "start_time": "2022-10-14T07:07:05.394061",
     "status": "completed"
    },
    "tags": []
   },
   "outputs": [
    {
     "data": {
      "text/plain": [
       "<AxesSubplot:xlabel='Cuisines', ylabel='count'>"
      ]
     },
     "execution_count": 41,
     "metadata": {},
     "output_type": "execute_result"
    },
    {
     "data": {
      "image/png": "[encoded data removed]",
      "text/plain": [
       "<Figure size 720x576 with 1 Axes>"
      ]
     },
     "metadata": {
      "needs_background": "light"
     },
     "output_type": "display_data"
    }
   ],
   "source": [
    "plt.figure(figsize=(10,8))\n",
    "sns.countplot(x=df['Cuisines'],hue=df['Gender'],palette='CMRmap')"
   ]
  },
  {
   "cell_type": "markdown",
   "id": "5f1a6860",
   "metadata": {
    "papermill": {
     "duration": 0.028845,
     "end_time": "2022-10-14T07:07:05.739083",
     "exception": false,
     "start_time": "2022-10-14T07:07:05.710238",
     "status": "completed"
    },
    "tags": []
   },
   "source": [
    "as we can see Japanese, Indian and filipino cuisines are mostly preffered by male and French cuisine is preffered female"
   ]
  },
  {
   "cell_type": "code",
   "execution_count": 42,
   "id": "06b33086",
   "metadata": {
    "execution": {
     "iopub.execute_input": "2022-10-14T07:07:05.797229Z",
     "iopub.status.busy": "2022-10-14T07:07:05.796525Z",
     "iopub.status.idle": "2022-10-14T07:07:05.815387Z",
     "shell.execute_reply": "2022-10-14T07:07:05.814343Z"
    },
    "papermill": {
     "duration": 0.050528,
     "end_time": "2022-10-14T07:07:05.817587",
     "exception": false,
     "start_time": "2022-10-14T07:07:05.767059",
     "status": "completed"
    },
    "tags": []
   },
   "outputs": [
    {
     "data": {
      "text/html": [
       "<div>\n",
       "<style scoped>\n",
       "    .dataframe tbody tr th:only-of-type {\n",
       "        vertical-align: middle;\n",
       "    }\n",
       "\n",
       "    .dataframe tbody tr th {\n",
       "        vertical-align: top;\n",
       "    }\n",
       "\n",
       "    .dataframe thead th {\n",
       "        text-align: right;\n",
       "    }\n",
       "</style>\n",
       "<table border=\"1\" class=\"dataframe\">\n",
       "  <thead>\n",
       "    <tr style=\"text-align: right;\">\n",
       "      <th></th>\n",
       "      <th>User ID</th>\n",
       "      <th>Area code</th>\n",
       "      <th>Location</th>\n",
       "      <th>Gender</th>\n",
       "      <th>YOB</th>\n",
       "      <th>Marital Status</th>\n",
       "      <th>Activity</th>\n",
       "      <th>Budget</th>\n",
       "      <th>Cuisines</th>\n",
       "      <th>Alcohol</th>\n",
       "      <th>Smoker</th>\n",
       "      <th>Food Rating</th>\n",
       "      <th>Service Rating</th>\n",
       "      <th>Overall Rating</th>\n",
       "      <th>Often A S</th>\n",
       "    </tr>\n",
       "  </thead>\n",
       "  <tbody>\n",
       "    <tr>\n",
       "      <th>0</th>\n",
       "      <td>1</td>\n",
       "      <td>153</td>\n",
       "      <td>Upper East Side,NY</td>\n",
       "      <td>Female</td>\n",
       "      <td>2006</td>\n",
       "      <td>Single</td>\n",
       "      <td>Professional</td>\n",
       "      <td>3</td>\n",
       "      <td>Japanese</td>\n",
       "      <td>Never</td>\n",
       "      <td>Never</td>\n",
       "      <td>5</td>\n",
       "      <td>4</td>\n",
       "      <td>4.5</td>\n",
       "      <td>No</td>\n",
       "    </tr>\n",
       "    <tr>\n",
       "      <th>1</th>\n",
       "      <td>2</td>\n",
       "      <td>123</td>\n",
       "      <td>St. George,NY</td>\n",
       "      <td>Female</td>\n",
       "      <td>1991</td>\n",
       "      <td>Married</td>\n",
       "      <td>Student</td>\n",
       "      <td>3</td>\n",
       "      <td>Indian</td>\n",
       "      <td>Never</td>\n",
       "      <td>Socially</td>\n",
       "      <td>1</td>\n",
       "      <td>1</td>\n",
       "      <td>1.0</td>\n",
       "      <td>No</td>\n",
       "    </tr>\n",
       "    <tr>\n",
       "      <th>2</th>\n",
       "      <td>3</td>\n",
       "      <td>122</td>\n",
       "      <td>Upper West Side,NY</td>\n",
       "      <td>Male</td>\n",
       "      <td>1977</td>\n",
       "      <td>Single</td>\n",
       "      <td>Student</td>\n",
       "      <td>5</td>\n",
       "      <td>Seafood</td>\n",
       "      <td>Often</td>\n",
       "      <td>Often</td>\n",
       "      <td>5</td>\n",
       "      <td>5</td>\n",
       "      <td>5.0</td>\n",
       "      <td>Yes</td>\n",
       "    </tr>\n",
       "    <tr>\n",
       "      <th>3</th>\n",
       "      <td>4</td>\n",
       "      <td>153</td>\n",
       "      <td>Upper East Side,NY</td>\n",
       "      <td>Female</td>\n",
       "      <td>1956</td>\n",
       "      <td>Married</td>\n",
       "      <td>Professional</td>\n",
       "      <td>5</td>\n",
       "      <td>Japanese</td>\n",
       "      <td>Never</td>\n",
       "      <td>Socially</td>\n",
       "      <td>3</td>\n",
       "      <td>1</td>\n",
       "      <td>2.0</td>\n",
       "      <td>No</td>\n",
       "    </tr>\n",
       "    <tr>\n",
       "      <th>4</th>\n",
       "      <td>5</td>\n",
       "      <td>129</td>\n",
       "      <td>Central Park,NY</td>\n",
       "      <td>Male</td>\n",
       "      <td>1997</td>\n",
       "      <td>Single</td>\n",
       "      <td>Student</td>\n",
       "      <td>4</td>\n",
       "      <td>Filipino</td>\n",
       "      <td>Socially</td>\n",
       "      <td>Never</td>\n",
       "      <td>2</td>\n",
       "      <td>4</td>\n",
       "      <td>3.0</td>\n",
       "      <td>No</td>\n",
       "    </tr>\n",
       "  </tbody>\n",
       "</table>\n",
       "</div>"
      ],
      "text/plain": [
       "   User ID  Area code            Location  Gender   YOB Marital Status  \\\n",
       "0        1        153  Upper East Side,NY  Female  2006         Single   \n",
       "1        2        123       St. George,NY  Female  1991        Married   \n",
       "2        3        122  Upper West Side,NY    Male  1977         Single   \n",
       "3        4        153  Upper East Side,NY  Female  1956        Married   \n",
       "4        5        129     Central Park,NY    Male  1997         Single   \n",
       "\n",
       "       Activity  Budget  Cuisines  Alcohol     Smoker  Food Rating  \\\n",
       "0  Professional       3  Japanese     Never     Never            5   \n",
       "1       Student       3    Indian     Never  Socially            1   \n",
       "2       Student       5   Seafood     Often     Often            5   \n",
       "3  Professional       5  Japanese     Never  Socially            3   \n",
       "4       Student       4  Filipino  Socially     Never            2   \n",
       "\n",
       "   Service Rating  Overall Rating Often A S  \n",
       "0               4             4.5        No  \n",
       "1               1             1.0        No  \n",
       "2               5             5.0       Yes  \n",
       "3               1             2.0        No  \n",
       "4               4             3.0        No  "
      ]
     },
     "execution_count": 42,
     "metadata": {},
     "output_type": "execute_result"
    }
   ],
   "source": [
    "df.head()"
   ]
  },
  {
   "cell_type": "code",
   "execution_count": 43,
   "id": "26b1d0f3",
   "metadata": {
    "execution": {
     "iopub.execute_input": "2022-10-14T07:07:05.875289Z",
     "iopub.status.busy": "2022-10-14T07:07:05.874588Z",
     "iopub.status.idle": "2022-10-14T07:07:05.881956Z",
     "shell.execute_reply": "2022-10-14T07:07:05.880956Z"
    },
    "papermill": {
     "duration": 0.038758,
     "end_time": "2022-10-14T07:07:05.884081",
     "exception": false,
     "start_time": "2022-10-14T07:07:05.845323",
     "status": "completed"
    },
    "tags": []
   },
   "outputs": [
    {
     "data": {
      "text/plain": [
       "4    63\n",
       "5    62\n",
       "3    61\n",
       "1    10\n",
       "2     4\n",
       "Name: Budget, dtype: int64"
      ]
     },
     "execution_count": 43,
     "metadata": {},
     "output_type": "execute_result"
    }
   ],
   "source": [
    "df['Budget'].value_counts()"
   ]
  },
  {
   "cell_type": "code",
   "execution_count": 44,
   "id": "135e44d7",
   "metadata": {
    "execution": {
     "iopub.execute_input": "2022-10-14T07:07:05.942600Z",
     "iopub.status.busy": "2022-10-14T07:07:05.941902Z",
     "iopub.status.idle": "2022-10-14T07:07:05.948533Z",
     "shell.execute_reply": "2022-10-14T07:07:05.947673Z"
    },
    "papermill": {
     "duration": 0.038439,
     "end_time": "2022-10-14T07:07:05.950662",
     "exception": false,
     "start_time": "2022-10-14T07:07:05.912223",
     "status": "completed"
    },
    "tags": []
   },
   "outputs": [],
   "source": [
    "def tg():\n",
    "    target=[]\n",
    "    for i in df['Budget']:\n",
    "        if i>3:\n",
    "            target.append('high')\n",
    "        if i==3:\n",
    "            target.append('medium')\n",
    "        if i<3:\n",
    "            target.append('low')\n",
    "    return target\n",
    "\n",
    "a=tg()\n",
    "a\n",
    "df['Target']=a"
   ]
  },
  {
   "cell_type": "code",
   "execution_count": 45,
   "id": "f616c27e",
   "metadata": {
    "execution": {
     "iopub.execute_input": "2022-10-14T07:07:06.008981Z",
     "iopub.status.busy": "2022-10-14T07:07:06.008063Z",
     "iopub.status.idle": "2022-10-14T07:07:06.034206Z",
     "shell.execute_reply": "2022-10-14T07:07:06.033091Z"
    },
    "papermill": {
     "duration": 0.057995,
     "end_time": "2022-10-14T07:07:06.036587",
     "exception": false,
     "start_time": "2022-10-14T07:07:05.978592",
     "status": "completed"
    },
    "tags": []
   },
   "outputs": [
    {
     "data": {
      "text/html": [
       "<div>\n",
       "<style scoped>\n",
       "    .dataframe tbody tr th:only-of-type {\n",
       "        vertical-align: middle;\n",
       "    }\n",
       "\n",
       "    .dataframe tbody tr th {\n",
       "        vertical-align: top;\n",
       "    }\n",
       "\n",
       "    .dataframe thead th {\n",
       "        text-align: right;\n",
       "    }\n",
       "</style>\n",
       "<table border=\"1\" class=\"dataframe\">\n",
       "  <thead>\n",
       "    <tr style=\"text-align: right;\">\n",
       "      <th></th>\n",
       "      <th>User ID</th>\n",
       "      <th>Area code</th>\n",
       "      <th>Location</th>\n",
       "      <th>Gender</th>\n",
       "      <th>YOB</th>\n",
       "      <th>Marital Status</th>\n",
       "      <th>Activity</th>\n",
       "      <th>Budget</th>\n",
       "      <th>Cuisines</th>\n",
       "      <th>Alcohol</th>\n",
       "      <th>Smoker</th>\n",
       "      <th>Food Rating</th>\n",
       "      <th>Service Rating</th>\n",
       "      <th>Overall Rating</th>\n",
       "      <th>Often A S</th>\n",
       "      <th>Target</th>\n",
       "    </tr>\n",
       "  </thead>\n",
       "  <tbody>\n",
       "    <tr>\n",
       "      <th>0</th>\n",
       "      <td>1</td>\n",
       "      <td>153</td>\n",
       "      <td>Upper East Side,NY</td>\n",
       "      <td>Female</td>\n",
       "      <td>2006</td>\n",
       "      <td>Single</td>\n",
       "      <td>Professional</td>\n",
       "      <td>3</td>\n",
       "      <td>Japanese</td>\n",
       "      <td>Never</td>\n",
       "      <td>Never</td>\n",
       "      <td>5</td>\n",
       "      <td>4</td>\n",
       "      <td>4.5</td>\n",
       "      <td>No</td>\n",
       "      <td>medium</td>\n",
       "    </tr>\n",
       "    <tr>\n",
       "      <th>1</th>\n",
       "      <td>2</td>\n",
       "      <td>123</td>\n",
       "      <td>St. George,NY</td>\n",
       "      <td>Female</td>\n",
       "      <td>1991</td>\n",
       "      <td>Married</td>\n",
       "      <td>Student</td>\n",
       "      <td>3</td>\n",
       "      <td>Indian</td>\n",
       "      <td>Never</td>\n",
       "      <td>Socially</td>\n",
       "      <td>1</td>\n",
       "      <td>1</td>\n",
       "      <td>1.0</td>\n",
       "      <td>No</td>\n",
       "      <td>medium</td>\n",
       "    </tr>\n",
       "    <tr>\n",
       "      <th>2</th>\n",
       "      <td>3</td>\n",
       "      <td>122</td>\n",
       "      <td>Upper West Side,NY</td>\n",
       "      <td>Male</td>\n",
       "      <td>1977</td>\n",
       "      <td>Single</td>\n",
       "      <td>Student</td>\n",
       "      <td>5</td>\n",
       "      <td>Seafood</td>\n",
       "      <td>Often</td>\n",
       "      <td>Often</td>\n",
       "      <td>5</td>\n",
       "      <td>5</td>\n",
       "      <td>5.0</td>\n",
       "      <td>Yes</td>\n",
       "      <td>high</td>\n",
       "    </tr>\n",
       "    <tr>\n",
       "      <th>3</th>\n",
       "      <td>4</td>\n",
       "      <td>153</td>\n",
       "      <td>Upper East Side,NY</td>\n",
       "      <td>Female</td>\n",
       "      <td>1956</td>\n",
       "      <td>Married</td>\n",
       "      <td>Professional</td>\n",
       "      <td>5</td>\n",
       "      <td>Japanese</td>\n",
       "      <td>Never</td>\n",
       "      <td>Socially</td>\n",
       "      <td>3</td>\n",
       "      <td>1</td>\n",
       "      <td>2.0</td>\n",
       "      <td>No</td>\n",
       "      <td>high</td>\n",
       "    </tr>\n",
       "    <tr>\n",
       "      <th>4</th>\n",
       "      <td>5</td>\n",
       "      <td>129</td>\n",
       "      <td>Central Park,NY</td>\n",
       "      <td>Male</td>\n",
       "      <td>1997</td>\n",
       "      <td>Single</td>\n",
       "      <td>Student</td>\n",
       "      <td>4</td>\n",
       "      <td>Filipino</td>\n",
       "      <td>Socially</td>\n",
       "      <td>Never</td>\n",
       "      <td>2</td>\n",
       "      <td>4</td>\n",
       "      <td>3.0</td>\n",
       "      <td>No</td>\n",
       "      <td>high</td>\n",
       "    </tr>\n",
       "    <tr>\n",
       "      <th>...</th>\n",
       "      <td>...</td>\n",
       "      <td>...</td>\n",
       "      <td>...</td>\n",
       "      <td>...</td>\n",
       "      <td>...</td>\n",
       "      <td>...</td>\n",
       "      <td>...</td>\n",
       "      <td>...</td>\n",
       "      <td>...</td>\n",
       "      <td>...</td>\n",
       "      <td>...</td>\n",
       "      <td>...</td>\n",
       "      <td>...</td>\n",
       "      <td>...</td>\n",
       "      <td>...</td>\n",
       "      <td>...</td>\n",
       "    </tr>\n",
       "    <tr>\n",
       "      <th>195</th>\n",
       "      <td>196</td>\n",
       "      <td>175</td>\n",
       "      <td>St. George,NY</td>\n",
       "      <td>Female</td>\n",
       "      <td>1982</td>\n",
       "      <td>Single</td>\n",
       "      <td>Professional</td>\n",
       "      <td>4</td>\n",
       "      <td>French</td>\n",
       "      <td>Never</td>\n",
       "      <td>Socially</td>\n",
       "      <td>1</td>\n",
       "      <td>2</td>\n",
       "      <td>1.5</td>\n",
       "      <td>No</td>\n",
       "      <td>high</td>\n",
       "    </tr>\n",
       "    <tr>\n",
       "      <th>196</th>\n",
       "      <td>197</td>\n",
       "      <td>170</td>\n",
       "      <td>Upper West Side,NY</td>\n",
       "      <td>Female</td>\n",
       "      <td>2000</td>\n",
       "      <td>Married</td>\n",
       "      <td>Student</td>\n",
       "      <td>4</td>\n",
       "      <td>Chinese</td>\n",
       "      <td>Never</td>\n",
       "      <td>Often</td>\n",
       "      <td>1</td>\n",
       "      <td>2</td>\n",
       "      <td>1.5</td>\n",
       "      <td>No</td>\n",
       "      <td>high</td>\n",
       "    </tr>\n",
       "    <tr>\n",
       "      <th>197</th>\n",
       "      <td>198</td>\n",
       "      <td>160</td>\n",
       "      <td>St. George,NY</td>\n",
       "      <td>Female</td>\n",
       "      <td>2006</td>\n",
       "      <td>Single</td>\n",
       "      <td>Professional</td>\n",
       "      <td>5</td>\n",
       "      <td>Japanese</td>\n",
       "      <td>Never</td>\n",
       "      <td>Often</td>\n",
       "      <td>5</td>\n",
       "      <td>2</td>\n",
       "      <td>3.5</td>\n",
       "      <td>No</td>\n",
       "      <td>high</td>\n",
       "    </tr>\n",
       "    <tr>\n",
       "      <th>198</th>\n",
       "      <td>199</td>\n",
       "      <td>130</td>\n",
       "      <td>St. George,NY</td>\n",
       "      <td>Male</td>\n",
       "      <td>2002</td>\n",
       "      <td>Married</td>\n",
       "      <td>Student</td>\n",
       "      <td>3</td>\n",
       "      <td>Filipino</td>\n",
       "      <td>Never</td>\n",
       "      <td>Socially</td>\n",
       "      <td>3</td>\n",
       "      <td>2</td>\n",
       "      <td>2.5</td>\n",
       "      <td>No</td>\n",
       "      <td>medium</td>\n",
       "    </tr>\n",
       "    <tr>\n",
       "      <th>199</th>\n",
       "      <td>200</td>\n",
       "      <td>140</td>\n",
       "      <td>Upper East Side,NY</td>\n",
       "      <td>Male</td>\n",
       "      <td>2005</td>\n",
       "      <td>Married</td>\n",
       "      <td>Student</td>\n",
       "      <td>4</td>\n",
       "      <td>French</td>\n",
       "      <td>Never</td>\n",
       "      <td>Never</td>\n",
       "      <td>3</td>\n",
       "      <td>2</td>\n",
       "      <td>2.5</td>\n",
       "      <td>No</td>\n",
       "      <td>high</td>\n",
       "    </tr>\n",
       "  </tbody>\n",
       "</table>\n",
       "<p>200 rows × 16 columns</p>\n",
       "</div>"
      ],
      "text/plain": [
       "     User ID  Area code            Location  Gender   YOB Marital Status  \\\n",
       "0          1        153  Upper East Side,NY  Female  2006         Single   \n",
       "1          2        123       St. George,NY  Female  1991        Married   \n",
       "2          3        122  Upper West Side,NY    Male  1977         Single   \n",
       "3          4        153  Upper East Side,NY  Female  1956        Married   \n",
       "4          5        129     Central Park,NY    Male  1997         Single   \n",
       "..       ...        ...                 ...     ...   ...            ...   \n",
       "195      196        175       St. George,NY  Female  1982         Single   \n",
       "196      197        170  Upper West Side,NY  Female  2000        Married   \n",
       "197      198        160       St. George,NY  Female  2006         Single   \n",
       "198      199        130       St. George,NY    Male  2002        Married   \n",
       "199      200        140  Upper East Side,NY    Male  2005        Married   \n",
       "\n",
       "         Activity  Budget  Cuisines  Alcohol     Smoker  Food Rating  \\\n",
       "0    Professional       3  Japanese     Never     Never            5   \n",
       "1         Student       3    Indian     Never  Socially            1   \n",
       "2         Student       5   Seafood     Often     Often            5   \n",
       "3    Professional       5  Japanese     Never  Socially            3   \n",
       "4         Student       4  Filipino  Socially     Never            2   \n",
       "..            ...     ...       ...       ...       ...          ...   \n",
       "195  Professional       4    French     Never  Socially            1   \n",
       "196       Student       4   Chinese     Never     Often            1   \n",
       "197  Professional       5  Japanese     Never     Often            5   \n",
       "198       Student       3  Filipino     Never  Socially            3   \n",
       "199       Student       4    French     Never     Never            3   \n",
       "\n",
       "     Service Rating  Overall Rating Often A S  Target  \n",
       "0                 4             4.5        No  medium  \n",
       "1                 1             1.0        No  medium  \n",
       "2                 5             5.0       Yes    high  \n",
       "3                 1             2.0        No    high  \n",
       "4                 4             3.0        No    high  \n",
       "..              ...             ...       ...     ...  \n",
       "195               2             1.5        No    high  \n",
       "196               2             1.5        No    high  \n",
       "197               2             3.5        No    high  \n",
       "198               2             2.5        No  medium  \n",
       "199               2             2.5        No    high  \n",
       "\n",
       "[200 rows x 16 columns]"
      ]
     },
     "execution_count": 45,
     "metadata": {},
     "output_type": "execute_result"
    }
   ],
   "source": [
    "df"
   ]
  },
  {
   "cell_type": "code",
   "execution_count": 46,
   "id": "b29d35a8",
   "metadata": {
    "execution": {
     "iopub.execute_input": "2022-10-14T07:07:06.096368Z",
     "iopub.status.busy": "2022-10-14T07:07:06.095960Z",
     "iopub.status.idle": "2022-10-14T07:07:06.102524Z",
     "shell.execute_reply": "2022-10-14T07:07:06.101711Z"
    },
    "papermill": {
     "duration": 0.039081,
     "end_time": "2022-10-14T07:07:06.104620",
     "exception": false,
     "start_time": "2022-10-14T07:07:06.065539",
     "status": "completed"
    },
    "tags": []
   },
   "outputs": [],
   "source": [
    "df=df.drop('Area code',axis=1)"
   ]
  },
  {
   "cell_type": "code",
   "execution_count": 47,
   "id": "8ee9e041",
   "metadata": {
    "execution": {
     "iopub.execute_input": "2022-10-14T07:07:06.164665Z",
     "iopub.status.busy": "2022-10-14T07:07:06.163966Z",
     "iopub.status.idle": "2022-10-14T07:07:06.169006Z",
     "shell.execute_reply": "2022-10-14T07:07:06.168247Z"
    },
    "papermill": {
     "duration": 0.037564,
     "end_time": "2022-10-14T07:07:06.171089",
     "exception": false,
     "start_time": "2022-10-14T07:07:06.133525",
     "status": "completed"
    },
    "tags": []
   },
   "outputs": [],
   "source": [
    "df=df.set_index('User ID')"
   ]
  },
  {
   "cell_type": "code",
   "execution_count": 48,
   "id": "9b7032b4",
   "metadata": {
    "execution": {
     "iopub.execute_input": "2022-10-14T07:07:06.230634Z",
     "iopub.status.busy": "2022-10-14T07:07:06.229840Z",
     "iopub.status.idle": "2022-10-14T07:07:06.252343Z",
     "shell.execute_reply": "2022-10-14T07:07:06.251498Z"
    },
    "papermill": {
     "duration": 0.055052,
     "end_time": "2022-10-14T07:07:06.254495",
     "exception": false,
     "start_time": "2022-10-14T07:07:06.199443",
     "status": "completed"
    },
    "tags": []
   },
   "outputs": [
    {
     "data": {
      "text/html": [
       "<div>\n",
       "<style scoped>\n",
       "    .dataframe tbody tr th:only-of-type {\n",
       "        vertical-align: middle;\n",
       "    }\n",
       "\n",
       "    .dataframe tbody tr th {\n",
       "        vertical-align: top;\n",
       "    }\n",
       "\n",
       "    .dataframe thead th {\n",
       "        text-align: right;\n",
       "    }\n",
       "</style>\n",
       "<table border=\"1\" class=\"dataframe\">\n",
       "  <thead>\n",
       "    <tr style=\"text-align: right;\">\n",
       "      <th></th>\n",
       "      <th>Location</th>\n",
       "      <th>Gender</th>\n",
       "      <th>YOB</th>\n",
       "      <th>Marital Status</th>\n",
       "      <th>Activity</th>\n",
       "      <th>Budget</th>\n",
       "      <th>Cuisines</th>\n",
       "      <th>Alcohol</th>\n",
       "      <th>Smoker</th>\n",
       "      <th>Food Rating</th>\n",
       "      <th>Service Rating</th>\n",
       "      <th>Overall Rating</th>\n",
       "      <th>Often A S</th>\n",
       "      <th>Target</th>\n",
       "    </tr>\n",
       "    <tr>\n",
       "      <th>User ID</th>\n",
       "      <th></th>\n",
       "      <th></th>\n",
       "      <th></th>\n",
       "      <th></th>\n",
       "      <th></th>\n",
       "      <th></th>\n",
       "      <th></th>\n",
       "      <th></th>\n",
       "      <th></th>\n",
       "      <th></th>\n",
       "      <th></th>\n",
       "      <th></th>\n",
       "      <th></th>\n",
       "      <th></th>\n",
       "    </tr>\n",
       "  </thead>\n",
       "  <tbody>\n",
       "    <tr>\n",
       "      <th>1</th>\n",
       "      <td>Upper East Side,NY</td>\n",
       "      <td>Female</td>\n",
       "      <td>2006</td>\n",
       "      <td>Single</td>\n",
       "      <td>Professional</td>\n",
       "      <td>3</td>\n",
       "      <td>Japanese</td>\n",
       "      <td>Never</td>\n",
       "      <td>Never</td>\n",
       "      <td>5</td>\n",
       "      <td>4</td>\n",
       "      <td>4.5</td>\n",
       "      <td>No</td>\n",
       "      <td>medium</td>\n",
       "    </tr>\n",
       "    <tr>\n",
       "      <th>2</th>\n",
       "      <td>St. George,NY</td>\n",
       "      <td>Female</td>\n",
       "      <td>1991</td>\n",
       "      <td>Married</td>\n",
       "      <td>Student</td>\n",
       "      <td>3</td>\n",
       "      <td>Indian</td>\n",
       "      <td>Never</td>\n",
       "      <td>Socially</td>\n",
       "      <td>1</td>\n",
       "      <td>1</td>\n",
       "      <td>1.0</td>\n",
       "      <td>No</td>\n",
       "      <td>medium</td>\n",
       "    </tr>\n",
       "    <tr>\n",
       "      <th>3</th>\n",
       "      <td>Upper West Side,NY</td>\n",
       "      <td>Male</td>\n",
       "      <td>1977</td>\n",
       "      <td>Single</td>\n",
       "      <td>Student</td>\n",
       "      <td>5</td>\n",
       "      <td>Seafood</td>\n",
       "      <td>Often</td>\n",
       "      <td>Often</td>\n",
       "      <td>5</td>\n",
       "      <td>5</td>\n",
       "      <td>5.0</td>\n",
       "      <td>Yes</td>\n",
       "      <td>high</td>\n",
       "    </tr>\n",
       "    <tr>\n",
       "      <th>4</th>\n",
       "      <td>Upper East Side,NY</td>\n",
       "      <td>Female</td>\n",
       "      <td>1956</td>\n",
       "      <td>Married</td>\n",
       "      <td>Professional</td>\n",
       "      <td>5</td>\n",
       "      <td>Japanese</td>\n",
       "      <td>Never</td>\n",
       "      <td>Socially</td>\n",
       "      <td>3</td>\n",
       "      <td>1</td>\n",
       "      <td>2.0</td>\n",
       "      <td>No</td>\n",
       "      <td>high</td>\n",
       "    </tr>\n",
       "    <tr>\n",
       "      <th>5</th>\n",
       "      <td>Central Park,NY</td>\n",
       "      <td>Male</td>\n",
       "      <td>1997</td>\n",
       "      <td>Single</td>\n",
       "      <td>Student</td>\n",
       "      <td>4</td>\n",
       "      <td>Filipino</td>\n",
       "      <td>Socially</td>\n",
       "      <td>Never</td>\n",
       "      <td>2</td>\n",
       "      <td>4</td>\n",
       "      <td>3.0</td>\n",
       "      <td>No</td>\n",
       "      <td>high</td>\n",
       "    </tr>\n",
       "    <tr>\n",
       "      <th>...</th>\n",
       "      <td>...</td>\n",
       "      <td>...</td>\n",
       "      <td>...</td>\n",
       "      <td>...</td>\n",
       "      <td>...</td>\n",
       "      <td>...</td>\n",
       "      <td>...</td>\n",
       "      <td>...</td>\n",
       "      <td>...</td>\n",
       "      <td>...</td>\n",
       "      <td>...</td>\n",
       "      <td>...</td>\n",
       "      <td>...</td>\n",
       "      <td>...</td>\n",
       "    </tr>\n",
       "    <tr>\n",
       "      <th>196</th>\n",
       "      <td>St. George,NY</td>\n",
       "      <td>Female</td>\n",
       "      <td>1982</td>\n",
       "      <td>Single</td>\n",
       "      <td>Professional</td>\n",
       "      <td>4</td>\n",
       "      <td>French</td>\n",
       "      <td>Never</td>\n",
       "      <td>Socially</td>\n",
       "      <td>1</td>\n",
       "      <td>2</td>\n",
       "      <td>1.5</td>\n",
       "      <td>No</td>\n",
       "      <td>high</td>\n",
       "    </tr>\n",
       "    <tr>\n",
       "      <th>197</th>\n",
       "      <td>Upper West Side,NY</td>\n",
       "      <td>Female</td>\n",
       "      <td>2000</td>\n",
       "      <td>Married</td>\n",
       "      <td>Student</td>\n",
       "      <td>4</td>\n",
       "      <td>Chinese</td>\n",
       "      <td>Never</td>\n",
       "      <td>Often</td>\n",
       "      <td>1</td>\n",
       "      <td>2</td>\n",
       "      <td>1.5</td>\n",
       "      <td>No</td>\n",
       "      <td>high</td>\n",
       "    </tr>\n",
       "    <tr>\n",
       "      <th>198</th>\n",
       "      <td>St. George,NY</td>\n",
       "      <td>Female</td>\n",
       "      <td>2006</td>\n",
       "      <td>Single</td>\n",
       "      <td>Professional</td>\n",
       "      <td>5</td>\n",
       "      <td>Japanese</td>\n",
       "      <td>Never</td>\n",
       "      <td>Often</td>\n",
       "      <td>5</td>\n",
       "      <td>2</td>\n",
       "      <td>3.5</td>\n",
       "      <td>No</td>\n",
       "      <td>high</td>\n",
       "    </tr>\n",
       "    <tr>\n",
       "      <th>199</th>\n",
       "      <td>St. George,NY</td>\n",
       "      <td>Male</td>\n",
       "      <td>2002</td>\n",
       "      <td>Married</td>\n",
       "      <td>Student</td>\n",
       "      <td>3</td>\n",
       "      <td>Filipino</td>\n",
       "      <td>Never</td>\n",
       "      <td>Socially</td>\n",
       "      <td>3</td>\n",
       "      <td>2</td>\n",
       "      <td>2.5</td>\n",
       "      <td>No</td>\n",
       "      <td>medium</td>\n",
       "    </tr>\n",
       "    <tr>\n",
       "      <th>200</th>\n",
       "      <td>Upper East Side,NY</td>\n",
       "      <td>Male</td>\n",
       "      <td>2005</td>\n",
       "      <td>Married</td>\n",
       "      <td>Student</td>\n",
       "      <td>4</td>\n",
       "      <td>French</td>\n",
       "      <td>Never</td>\n",
       "      <td>Never</td>\n",
       "      <td>3</td>\n",
       "      <td>2</td>\n",
       "      <td>2.5</td>\n",
       "      <td>No</td>\n",
       "      <td>high</td>\n",
       "    </tr>\n",
       "  </tbody>\n",
       "</table>\n",
       "<p>200 rows × 14 columns</p>\n",
       "</div>"
      ],
      "text/plain": [
       "                   Location  Gender   YOB Marital Status      Activity  \\\n",
       "User ID                                                                  \n",
       "1        Upper East Side,NY  Female  2006         Single  Professional   \n",
       "2             St. George,NY  Female  1991        Married       Student   \n",
       "3        Upper West Side,NY    Male  1977         Single       Student   \n",
       "4        Upper East Side,NY  Female  1956        Married  Professional   \n",
       "5           Central Park,NY    Male  1997         Single       Student   \n",
       "...                     ...     ...   ...            ...           ...   \n",
       "196           St. George,NY  Female  1982         Single  Professional   \n",
       "197      Upper West Side,NY  Female  2000        Married       Student   \n",
       "198           St. George,NY  Female  2006         Single  Professional   \n",
       "199           St. George,NY    Male  2002        Married       Student   \n",
       "200      Upper East Side,NY    Male  2005        Married       Student   \n",
       "\n",
       "         Budget  Cuisines  Alcohol     Smoker  Food Rating  Service Rating  \\\n",
       "User ID                                                                      \n",
       "1             3  Japanese     Never     Never            5               4   \n",
       "2             3    Indian     Never  Socially            1               1   \n",
       "3             5   Seafood     Often     Often            5               5   \n",
       "4             5  Japanese     Never  Socially            3               1   \n",
       "5             4  Filipino  Socially     Never            2               4   \n",
       "...         ...       ...       ...       ...          ...             ...   \n",
       "196           4    French     Never  Socially            1               2   \n",
       "197           4   Chinese     Never     Often            1               2   \n",
       "198           5  Japanese     Never     Often            5               2   \n",
       "199           3  Filipino     Never  Socially            3               2   \n",
       "200           4    French     Never     Never            3               2   \n",
       "\n",
       "         Overall Rating Often A S  Target  \n",
       "User ID                                    \n",
       "1                   4.5        No  medium  \n",
       "2                   1.0        No  medium  \n",
       "3                   5.0       Yes    high  \n",
       "4                   2.0        No    high  \n",
       "5                   3.0        No    high  \n",
       "...                 ...       ...     ...  \n",
       "196                 1.5        No    high  \n",
       "197                 1.5        No    high  \n",
       "198                 3.5        No    high  \n",
       "199                 2.5        No  medium  \n",
       "200                 2.5        No    high  \n",
       "\n",
       "[200 rows x 14 columns]"
      ]
     },
     "execution_count": 48,
     "metadata": {},
     "output_type": "execute_result"
    }
   ],
   "source": [
    "df"
   ]
  },
  {
   "cell_type": "code",
   "execution_count": 49,
   "id": "1e53ca15",
   "metadata": {
    "execution": {
     "iopub.execute_input": "2022-10-14T07:07:06.315216Z",
     "iopub.status.busy": "2022-10-14T07:07:06.314552Z",
     "iopub.status.idle": "2022-10-14T07:07:06.320661Z",
     "shell.execute_reply": "2022-10-14T07:07:06.319870Z"
    },
    "papermill": {
     "duration": 0.038448,
     "end_time": "2022-10-14T07:07:06.322773",
     "exception": false,
     "start_time": "2022-10-14T07:07:06.284325",
     "status": "completed"
    },
    "tags": []
   },
   "outputs": [],
   "source": [
    "X=df.drop('Target',axis=1)\n",
    "Y=df['Target']"
   ]
  },
  {
   "cell_type": "code",
   "execution_count": 50,
   "id": "9e6794f2",
   "metadata": {
    "execution": {
     "iopub.execute_input": "2022-10-14T07:07:06.383483Z",
     "iopub.status.busy": "2022-10-14T07:07:06.382760Z",
     "iopub.status.idle": "2022-10-14T07:07:06.405979Z",
     "shell.execute_reply": "2022-10-14T07:07:06.404917Z"
    },
    "papermill": {
     "duration": 0.055843,
     "end_time": "2022-10-14T07:07:06.408232",
     "exception": false,
     "start_time": "2022-10-14T07:07:06.352389",
     "status": "completed"
    },
    "tags": []
   },
   "outputs": [
    {
     "data": {
      "text/html": [
       "<div>\n",
       "<style scoped>\n",
       "    .dataframe tbody tr th:only-of-type {\n",
       "        vertical-align: middle;\n",
       "    }\n",
       "\n",
       "    .dataframe tbody tr th {\n",
       "        vertical-align: top;\n",
       "    }\n",
       "\n",
       "    .dataframe thead th {\n",
       "        text-align: right;\n",
       "    }\n",
       "</style>\n",
       "<table border=\"1\" class=\"dataframe\">\n",
       "  <thead>\n",
       "    <tr style=\"text-align: right;\">\n",
       "      <th></th>\n",
       "      <th>Location</th>\n",
       "      <th>Gender</th>\n",
       "      <th>YOB</th>\n",
       "      <th>Marital Status</th>\n",
       "      <th>Activity</th>\n",
       "      <th>Budget</th>\n",
       "      <th>Cuisines</th>\n",
       "      <th>Alcohol</th>\n",
       "      <th>Smoker</th>\n",
       "      <th>Food Rating</th>\n",
       "      <th>Service Rating</th>\n",
       "      <th>Overall Rating</th>\n",
       "      <th>Often A S</th>\n",
       "    </tr>\n",
       "    <tr>\n",
       "      <th>User ID</th>\n",
       "      <th></th>\n",
       "      <th></th>\n",
       "      <th></th>\n",
       "      <th></th>\n",
       "      <th></th>\n",
       "      <th></th>\n",
       "      <th></th>\n",
       "      <th></th>\n",
       "      <th></th>\n",
       "      <th></th>\n",
       "      <th></th>\n",
       "      <th></th>\n",
       "      <th></th>\n",
       "    </tr>\n",
       "  </thead>\n",
       "  <tbody>\n",
       "    <tr>\n",
       "      <th>1</th>\n",
       "      <td>Upper East Side,NY</td>\n",
       "      <td>Female</td>\n",
       "      <td>2006</td>\n",
       "      <td>Single</td>\n",
       "      <td>Professional</td>\n",
       "      <td>3</td>\n",
       "      <td>Japanese</td>\n",
       "      <td>Never</td>\n",
       "      <td>Never</td>\n",
       "      <td>5</td>\n",
       "      <td>4</td>\n",
       "      <td>4.5</td>\n",
       "      <td>No</td>\n",
       "    </tr>\n",
       "    <tr>\n",
       "      <th>2</th>\n",
       "      <td>St. George,NY</td>\n",
       "      <td>Female</td>\n",
       "      <td>1991</td>\n",
       "      <td>Married</td>\n",
       "      <td>Student</td>\n",
       "      <td>3</td>\n",
       "      <td>Indian</td>\n",
       "      <td>Never</td>\n",
       "      <td>Socially</td>\n",
       "      <td>1</td>\n",
       "      <td>1</td>\n",
       "      <td>1.0</td>\n",
       "      <td>No</td>\n",
       "    </tr>\n",
       "    <tr>\n",
       "      <th>3</th>\n",
       "      <td>Upper West Side,NY</td>\n",
       "      <td>Male</td>\n",
       "      <td>1977</td>\n",
       "      <td>Single</td>\n",
       "      <td>Student</td>\n",
       "      <td>5</td>\n",
       "      <td>Seafood</td>\n",
       "      <td>Often</td>\n",
       "      <td>Often</td>\n",
       "      <td>5</td>\n",
       "      <td>5</td>\n",
       "      <td>5.0</td>\n",
       "      <td>Yes</td>\n",
       "    </tr>\n",
       "    <tr>\n",
       "      <th>4</th>\n",
       "      <td>Upper East Side,NY</td>\n",
       "      <td>Female</td>\n",
       "      <td>1956</td>\n",
       "      <td>Married</td>\n",
       "      <td>Professional</td>\n",
       "      <td>5</td>\n",
       "      <td>Japanese</td>\n",
       "      <td>Never</td>\n",
       "      <td>Socially</td>\n",
       "      <td>3</td>\n",
       "      <td>1</td>\n",
       "      <td>2.0</td>\n",
       "      <td>No</td>\n",
       "    </tr>\n",
       "    <tr>\n",
       "      <th>5</th>\n",
       "      <td>Central Park,NY</td>\n",
       "      <td>Male</td>\n",
       "      <td>1997</td>\n",
       "      <td>Single</td>\n",
       "      <td>Student</td>\n",
       "      <td>4</td>\n",
       "      <td>Filipino</td>\n",
       "      <td>Socially</td>\n",
       "      <td>Never</td>\n",
       "      <td>2</td>\n",
       "      <td>4</td>\n",
       "      <td>3.0</td>\n",
       "      <td>No</td>\n",
       "    </tr>\n",
       "    <tr>\n",
       "      <th>...</th>\n",
       "      <td>...</td>\n",
       "      <td>...</td>\n",
       "      <td>...</td>\n",
       "      <td>...</td>\n",
       "      <td>...</td>\n",
       "      <td>...</td>\n",
       "      <td>...</td>\n",
       "      <td>...</td>\n",
       "      <td>...</td>\n",
       "      <td>...</td>\n",
       "      <td>...</td>\n",
       "      <td>...</td>\n",
       "      <td>...</td>\n",
       "    </tr>\n",
       "    <tr>\n",
       "      <th>196</th>\n",
       "      <td>St. George,NY</td>\n",
       "      <td>Female</td>\n",
       "      <td>1982</td>\n",
       "      <td>Single</td>\n",
       "      <td>Professional</td>\n",
       "      <td>4</td>\n",
       "      <td>French</td>\n",
       "      <td>Never</td>\n",
       "      <td>Socially</td>\n",
       "      <td>1</td>\n",
       "      <td>2</td>\n",
       "      <td>1.5</td>\n",
       "      <td>No</td>\n",
       "    </tr>\n",
       "    <tr>\n",
       "      <th>197</th>\n",
       "      <td>Upper West Side,NY</td>\n",
       "      <td>Female</td>\n",
       "      <td>2000</td>\n",
       "      <td>Married</td>\n",
       "      <td>Student</td>\n",
       "      <td>4</td>\n",
       "      <td>Chinese</td>\n",
       "      <td>Never</td>\n",
       "      <td>Often</td>\n",
       "      <td>1</td>\n",
       "      <td>2</td>\n",
       "      <td>1.5</td>\n",
       "      <td>No</td>\n",
       "    </tr>\n",
       "    <tr>\n",
       "      <th>198</th>\n",
       "      <td>St. George,NY</td>\n",
       "      <td>Female</td>\n",
       "      <td>2006</td>\n",
       "      <td>Single</td>\n",
       "      <td>Professional</td>\n",
       "      <td>5</td>\n",
       "      <td>Japanese</td>\n",
       "      <td>Never</td>\n",
       "      <td>Often</td>\n",
       "      <td>5</td>\n",
       "      <td>2</td>\n",
       "      <td>3.5</td>\n",
       "      <td>No</td>\n",
       "    </tr>\n",
       "    <tr>\n",
       "      <th>199</th>\n",
       "      <td>St. George,NY</td>\n",
       "      <td>Male</td>\n",
       "      <td>2002</td>\n",
       "      <td>Married</td>\n",
       "      <td>Student</td>\n",
       "      <td>3</td>\n",
       "      <td>Filipino</td>\n",
       "      <td>Never</td>\n",
       "      <td>Socially</td>\n",
       "      <td>3</td>\n",
       "      <td>2</td>\n",
       "      <td>2.5</td>\n",
       "      <td>No</td>\n",
       "    </tr>\n",
       "    <tr>\n",
       "      <th>200</th>\n",
       "      <td>Upper East Side,NY</td>\n",
       "      <td>Male</td>\n",
       "      <td>2005</td>\n",
       "      <td>Married</td>\n",
       "      <td>Student</td>\n",
       "      <td>4</td>\n",
       "      <td>French</td>\n",
       "      <td>Never</td>\n",
       "      <td>Never</td>\n",
       "      <td>3</td>\n",
       "      <td>2</td>\n",
       "      <td>2.5</td>\n",
       "      <td>No</td>\n",
       "    </tr>\n",
       "  </tbody>\n",
       "</table>\n",
       "<p>200 rows × 13 columns</p>\n",
       "</div>"
      ],
      "text/plain": [
       "                   Location  Gender   YOB Marital Status      Activity  \\\n",
       "User ID                                                                  \n",
       "1        Upper East Side,NY  Female  2006         Single  Professional   \n",
       "2             St. George,NY  Female  1991        Married       Student   \n",
       "3        Upper West Side,NY    Male  1977         Single       Student   \n",
       "4        Upper East Side,NY  Female  1956        Married  Professional   \n",
       "5           Central Park,NY    Male  1997         Single       Student   \n",
       "...                     ...     ...   ...            ...           ...   \n",
       "196           St. George,NY  Female  1982         Single  Professional   \n",
       "197      Upper West Side,NY  Female  2000        Married       Student   \n",
       "198           St. George,NY  Female  2006         Single  Professional   \n",
       "199           St. George,NY    Male  2002        Married       Student   \n",
       "200      Upper East Side,NY    Male  2005        Married       Student   \n",
       "\n",
       "         Budget  Cuisines  Alcohol     Smoker  Food Rating  Service Rating  \\\n",
       "User ID                                                                      \n",
       "1             3  Japanese     Never     Never            5               4   \n",
       "2             3    Indian     Never  Socially            1               1   \n",
       "3             5   Seafood     Often     Often            5               5   \n",
       "4             5  Japanese     Never  Socially            3               1   \n",
       "5             4  Filipino  Socially     Never            2               4   \n",
       "...         ...       ...       ...       ...          ...             ...   \n",
       "196           4    French     Never  Socially            1               2   \n",
       "197           4   Chinese     Never     Often            1               2   \n",
       "198           5  Japanese     Never     Often            5               2   \n",
       "199           3  Filipino     Never  Socially            3               2   \n",
       "200           4    French     Never     Never            3               2   \n",
       "\n",
       "         Overall Rating Often A S  \n",
       "User ID                            \n",
       "1                   4.5        No  \n",
       "2                   1.0        No  \n",
       "3                   5.0       Yes  \n",
       "4                   2.0        No  \n",
       "5                   3.0        No  \n",
       "...                 ...       ...  \n",
       "196                 1.5        No  \n",
       "197                 1.5        No  \n",
       "198                 3.5        No  \n",
       "199                 2.5        No  \n",
       "200                 2.5        No  \n",
       "\n",
       "[200 rows x 13 columns]"
      ]
     },
     "execution_count": 50,
     "metadata": {},
     "output_type": "execute_result"
    }
   ],
   "source": [
    "X"
   ]
  },
  {
   "cell_type": "code",
   "execution_count": 51,
   "id": "c68c45cf",
   "metadata": {
    "execution": {
     "iopub.execute_input": "2022-10-14T07:07:06.469170Z",
     "iopub.status.busy": "2022-10-14T07:07:06.468178Z",
     "iopub.status.idle": "2022-10-14T07:07:06.476465Z",
     "shell.execute_reply": "2022-10-14T07:07:06.475549Z"
    },
    "papermill": {
     "duration": 0.040988,
     "end_time": "2022-10-14T07:07:06.478548",
     "exception": false,
     "start_time": "2022-10-14T07:07:06.437560",
     "status": "completed"
    },
    "tags": []
   },
   "outputs": [
    {
     "data": {
      "text/plain": [
       "User ID\n",
       "1      medium\n",
       "2      medium\n",
       "3        high\n",
       "4        high\n",
       "5        high\n",
       "        ...  \n",
       "196      high\n",
       "197      high\n",
       "198      high\n",
       "199    medium\n",
       "200      high\n",
       "Name: Target, Length: 200, dtype: object"
      ]
     },
     "execution_count": 51,
     "metadata": {},
     "output_type": "execute_result"
    }
   ],
   "source": [
    "Y"
   ]
  },
  {
   "cell_type": "code",
   "execution_count": 52,
   "id": "aaf98381",
   "metadata": {
    "execution": {
     "iopub.execute_input": "2022-10-14T07:07:06.539209Z",
     "iopub.status.busy": "2022-10-14T07:07:06.538469Z",
     "iopub.status.idle": "2022-10-14T07:07:06.701303Z",
     "shell.execute_reply": "2022-10-14T07:07:06.699942Z"
    },
    "papermill": {
     "duration": 0.1965,
     "end_time": "2022-10-14T07:07:06.704015",
     "exception": false,
     "start_time": "2022-10-14T07:07:06.507515",
     "status": "completed"
    },
    "tags": []
   },
   "outputs": [
    {
     "data": {
      "text/html": [
       "<div>\n",
       "<style scoped>\n",
       "    .dataframe tbody tr th:only-of-type {\n",
       "        vertical-align: middle;\n",
       "    }\n",
       "\n",
       "    .dataframe tbody tr th {\n",
       "        vertical-align: top;\n",
       "    }\n",
       "\n",
       "    .dataframe thead th {\n",
       "        text-align: right;\n",
       "    }\n",
       "</style>\n",
       "<table border=\"1\" class=\"dataframe\">\n",
       "  <thead>\n",
       "    <tr style=\"text-align: right;\">\n",
       "      <th></th>\n",
       "      <th>Location</th>\n",
       "      <th>Gender</th>\n",
       "      <th>YOB</th>\n",
       "      <th>Marital Status</th>\n",
       "      <th>Activity</th>\n",
       "      <th>Budget</th>\n",
       "      <th>Cuisines</th>\n",
       "      <th>Alcohol</th>\n",
       "      <th>Smoker</th>\n",
       "      <th>Food Rating</th>\n",
       "      <th>Service Rating</th>\n",
       "      <th>Overall Rating</th>\n",
       "      <th>Often A S</th>\n",
       "    </tr>\n",
       "    <tr>\n",
       "      <th>User ID</th>\n",
       "      <th></th>\n",
       "      <th></th>\n",
       "      <th></th>\n",
       "      <th></th>\n",
       "      <th></th>\n",
       "      <th></th>\n",
       "      <th></th>\n",
       "      <th></th>\n",
       "      <th></th>\n",
       "      <th></th>\n",
       "      <th></th>\n",
       "      <th></th>\n",
       "      <th></th>\n",
       "    </tr>\n",
       "  </thead>\n",
       "  <tbody>\n",
       "    <tr>\n",
       "      <th>1</th>\n",
       "      <td>7</td>\n",
       "      <td>0</td>\n",
       "      <td>43</td>\n",
       "      <td>2</td>\n",
       "      <td>0</td>\n",
       "      <td>2</td>\n",
       "      <td>5</td>\n",
       "      <td>0</td>\n",
       "      <td>0</td>\n",
       "      <td>4</td>\n",
       "      <td>3</td>\n",
       "      <td>7</td>\n",
       "      <td>0</td>\n",
       "    </tr>\n",
       "    <tr>\n",
       "      <th>2</th>\n",
       "      <td>6</td>\n",
       "      <td>0</td>\n",
       "      <td>30</td>\n",
       "      <td>1</td>\n",
       "      <td>1</td>\n",
       "      <td>2</td>\n",
       "      <td>3</td>\n",
       "      <td>0</td>\n",
       "      <td>2</td>\n",
       "      <td>0</td>\n",
       "      <td>0</td>\n",
       "      <td>0</td>\n",
       "      <td>0</td>\n",
       "    </tr>\n",
       "    <tr>\n",
       "      <th>3</th>\n",
       "      <td>8</td>\n",
       "      <td>1</td>\n",
       "      <td>17</td>\n",
       "      <td>2</td>\n",
       "      <td>1</td>\n",
       "      <td>4</td>\n",
       "      <td>6</td>\n",
       "      <td>1</td>\n",
       "      <td>1</td>\n",
       "      <td>4</td>\n",
       "      <td>4</td>\n",
       "      <td>8</td>\n",
       "      <td>1</td>\n",
       "    </tr>\n",
       "    <tr>\n",
       "      <th>4</th>\n",
       "      <td>7</td>\n",
       "      <td>0</td>\n",
       "      <td>1</td>\n",
       "      <td>1</td>\n",
       "      <td>0</td>\n",
       "      <td>4</td>\n",
       "      <td>5</td>\n",
       "      <td>0</td>\n",
       "      <td>2</td>\n",
       "      <td>2</td>\n",
       "      <td>0</td>\n",
       "      <td>2</td>\n",
       "      <td>0</td>\n",
       "    </tr>\n",
       "    <tr>\n",
       "      <th>5</th>\n",
       "      <td>1</td>\n",
       "      <td>1</td>\n",
       "      <td>34</td>\n",
       "      <td>2</td>\n",
       "      <td>1</td>\n",
       "      <td>3</td>\n",
       "      <td>1</td>\n",
       "      <td>2</td>\n",
       "      <td>0</td>\n",
       "      <td>1</td>\n",
       "      <td>3</td>\n",
       "      <td>4</td>\n",
       "      <td>0</td>\n",
       "    </tr>\n",
       "  </tbody>\n",
       "</table>\n",
       "</div>"
      ],
      "text/plain": [
       "         Location  Gender  YOB  Marital Status  Activity  Budget  Cuisines  \\\n",
       "User ID                                                                      \n",
       "1               7       0   43               2         0       2         5   \n",
       "2               6       0   30               1         1       2         3   \n",
       "3               8       1   17               2         1       4         6   \n",
       "4               7       0    1               1         0       4         5   \n",
       "5               1       1   34               2         1       3         1   \n",
       "\n",
       "         Alcohol   Smoker  Food Rating  Service Rating  Overall Rating  \\\n",
       "User ID                                                                  \n",
       "1               0       0            4               3               7   \n",
       "2               0       2            0               0               0   \n",
       "3               1       1            4               4               8   \n",
       "4               0       2            2               0               2   \n",
       "5               2       0            1               3               4   \n",
       "\n",
       "         Often A S  \n",
       "User ID             \n",
       "1                0  \n",
       "2                0  \n",
       "3                1  \n",
       "4                0  \n",
       "5                0  "
      ]
     },
     "execution_count": 52,
     "metadata": {},
     "output_type": "execute_result"
    }
   ],
   "source": [
    "from sklearn.preprocessing import LabelEncoder\n",
    "X_enc = X.copy()\n",
    "for col in X.columns:\n",
    "    lb = LabelEncoder() # Shift + Tab\n",
    "    X_enc[col] = lb.fit_transform(X[col].values)\n",
    "    \n",
    "X_enc.head()"
   ]
  },
  {
   "cell_type": "code",
   "execution_count": 53,
   "id": "66faf6e1",
   "metadata": {
    "execution": {
     "iopub.execute_input": "2022-10-14T07:07:06.770938Z",
     "iopub.status.busy": "2022-10-14T07:07:06.770384Z",
     "iopub.status.idle": "2022-10-14T07:07:06.979366Z",
     "shell.execute_reply": "2022-10-14T07:07:06.978190Z"
    },
    "papermill": {
     "duration": 0.247671,
     "end_time": "2022-10-14T07:07:06.982044",
     "exception": false,
     "start_time": "2022-10-14T07:07:06.734373",
     "status": "completed"
    },
    "tags": []
   },
   "outputs": [
    {
     "data": {
      "text/plain": [
       "0.995"
      ]
     },
     "execution_count": 53,
     "metadata": {},
     "output_type": "execute_result"
    }
   ],
   "source": [
    "from sklearn.neighbors import KNeighborsClassifier\n",
    "model = KNeighborsClassifier(n_neighbors=3, metric='manhattan')\n",
    "model.fit(X_enc,Y)\n",
    "model.score(X_enc, Y)"
   ]
  },
  {
   "cell_type": "code",
   "execution_count": 54,
   "id": "2c098928",
   "metadata": {
    "execution": {
     "iopub.execute_input": "2022-10-14T07:07:07.044974Z",
     "iopub.status.busy": "2022-10-14T07:07:07.044547Z",
     "iopub.status.idle": "2022-10-14T07:07:07.458252Z",
     "shell.execute_reply": "2022-10-14T07:07:07.456857Z"
    },
    "papermill": {
     "duration": 0.447951,
     "end_time": "2022-10-14T07:07:07.460714",
     "exception": false,
     "start_time": "2022-10-14T07:07:07.012763",
     "status": "completed"
    },
    "tags": []
   },
   "outputs": [
    {
     "name": "stdout",
     "output_type": "stream",
     "text": [
      "[1.0, 0.995, 0.985, 0.855, 0.86, 0.835, 0.865, 0.835, 0.81, 0.79, 0.8, 0.75, 0.735, 0.72, 0.71, 0.7, 0.695, 0.695, 0.675, 0.68, 0.69, 0.665, 0.685, 0.67, 0.705, 0.66, 0.67, 0.635, 0.63, 0.61, 0.63, 0.64, 0.63, 0.615, 0.63, 0.645, 0.64, 0.615, 0.635] "
     ]
    }
   ],
   "source": [
    "scores = []\n",
    "for k in range(1,40):\n",
    "    knn = KNeighborsClassifier(k).fit(X_enc, Y)\n",
    "    scores.append(knn.score(X_enc, Y))\n",
    "\n",
    "print(scores, end = \" \")"
   ]
  },
  {
   "cell_type": "code",
   "execution_count": 55,
   "id": "38389152",
   "metadata": {
    "execution": {
     "iopub.execute_input": "2022-10-14T07:07:07.523074Z",
     "iopub.status.busy": "2022-10-14T07:07:07.522649Z",
     "iopub.status.idle": "2022-10-14T07:07:07.548633Z",
     "shell.execute_reply": "2022-10-14T07:07:07.547373Z"
    },
    "papermill": {
     "duration": 0.060301,
     "end_time": "2022-10-14T07:07:07.551065",
     "exception": false,
     "start_time": "2022-10-14T07:07:07.490764",
     "status": "completed"
    },
    "tags": []
   },
   "outputs": [
    {
     "data": {
      "text/plain": [
       "(0.92, 0.8933333333333333)"
      ]
     },
     "execution_count": 55,
     "metadata": {},
     "output_type": "execute_result"
    }
   ],
   "source": [
    "from sklearn.model_selection import train_test_split\n",
    "X_train, X_test, y_train, y_test = train_test_split(X_enc,Y) \n",
    "kn= KNeighborsClassifier(n_neighbors=5, metric='manhattan')\n",
    "kn.fit(X_enc,Y)\n",
    "kn.score(X_test, y_test),kn.score(X_train,y_train)"
   ]
  },
  {
   "cell_type": "code",
   "execution_count": 56,
   "id": "3ecef6d1",
   "metadata": {
    "execution": {
     "iopub.execute_input": "2022-10-14T07:07:07.615645Z",
     "iopub.status.busy": "2022-10-14T07:07:07.615211Z",
     "iopub.status.idle": "2022-10-14T07:07:07.635190Z",
     "shell.execute_reply": "2022-10-14T07:07:07.634024Z"
    },
    "papermill": {
     "duration": 0.056124,
     "end_time": "2022-10-14T07:07:07.637699",
     "exception": false,
     "start_time": "2022-10-14T07:07:07.581575",
     "status": "completed"
    },
    "tags": []
   },
   "outputs": [
    {
     "data": {
      "text/plain": [
       "(0.5, 0.6666666666666666)"
      ]
     },
     "execution_count": 56,
     "metadata": {},
     "output_type": "execute_result"
    }
   ],
   "source": [
    "from sklearn.model_selection import train_test_split\n",
    "from sklearn.svm import SVC\n",
    "X_train, X_test, y_train, y_test = train_test_split(X_enc,Y) \n",
    "svc = SVC() \n",
    "svc.fit(X_train, y_train)\n",
    "\n",
    "svc.score(X_test, y_test),svc.score(X_train,y_train)"
   ]
  },
  {
   "cell_type": "code",
   "execution_count": 57,
   "id": "27606e4d",
   "metadata": {
    "execution": {
     "iopub.execute_input": "2022-10-14T07:07:07.700347Z",
     "iopub.status.busy": "2022-10-14T07:07:07.699916Z",
     "iopub.status.idle": "2022-10-14T07:07:07.731323Z",
     "shell.execute_reply": "2022-10-14T07:07:07.730167Z"
    },
    "papermill": {
     "duration": 0.065693,
     "end_time": "2022-10-14T07:07:07.733852",
     "exception": false,
     "start_time": "2022-10-14T07:07:07.668159",
     "status": "completed"
    },
    "tags": []
   },
   "outputs": [
    {
     "data": {
      "text/plain": [
       "(0.6, 0.6333333333333333)"
      ]
     },
     "execution_count": 57,
     "metadata": {},
     "output_type": "execute_result"
    }
   ],
   "source": [
    "X_ohe = pd.get_dummies(X)      #using One hot encoder\n",
    "X_train, X_test, y_train, y_test = train_test_split(X_ohe, Y)\n",
    "svc = SVC()\n",
    "svc.fit(X_train, y_train)\n",
    "svc.score(X_test, y_test), svc.score(X_train, y_train)\n"
   ]
  },
  {
   "cell_type": "code",
   "execution_count": 58,
   "id": "f99de586",
   "metadata": {
    "execution": {
     "iopub.execute_input": "2022-10-14T07:07:07.798550Z",
     "iopub.status.busy": "2022-10-14T07:07:07.798124Z",
     "iopub.status.idle": "2022-10-14T07:07:07.815367Z",
     "shell.execute_reply": "2022-10-14T07:07:07.814461Z"
    },
    "papermill": {
     "duration": 0.052252,
     "end_time": "2022-10-14T07:07:07.817637",
     "exception": false,
     "start_time": "2022-10-14T07:07:07.765385",
     "status": "completed"
    },
    "tags": []
   },
   "outputs": [
    {
     "data": {
      "text/plain": [
       "(0.6066666666666667, 0.74)"
      ]
     },
     "execution_count": 58,
     "metadata": {},
     "output_type": "execute_result"
    }
   ],
   "source": [
    "from sklearn.naive_bayes import GaussianNB\n",
    "from sklearn.model_selection import train_test_split\n",
    "nb = GaussianNB()\n",
    "nb.fit(X_train,y_train)\n",
    "nb.score(X_train, y_train),nb.score(X_test, y_test)"
   ]
  },
  {
   "cell_type": "code",
   "execution_count": 59,
   "id": "1e8a44eb",
   "metadata": {
    "execution": {
     "iopub.execute_input": "2022-10-14T07:07:07.881280Z",
     "iopub.status.busy": "2022-10-14T07:07:07.880846Z",
     "iopub.status.idle": "2022-10-14T07:07:07.896582Z",
     "shell.execute_reply": "2022-10-14T07:07:07.895472Z"
    },
    "papermill": {
     "duration": 0.051181,
     "end_time": "2022-10-14T07:07:07.899021",
     "exception": false,
     "start_time": "2022-10-14T07:07:07.847840",
     "status": "completed"
    },
    "tags": []
   },
   "outputs": [
    {
     "data": {
      "text/plain": [
       "(0.7533333333333333, 0.66)"
      ]
     },
     "execution_count": 59,
     "metadata": {},
     "output_type": "execute_result"
    }
   ],
   "source": [
    "from  sklearn.naive_bayes import BernoulliNB\n",
    "from sklearn.model_selection import train_test_split\n",
    "nb = BernoulliNB()\n",
    "nb.fit(X_train,y_train)\n",
    "nb.score(X_train, y_train),nb.score(X_test, y_test)"
   ]
  },
  {
   "cell_type": "code",
   "execution_count": 60,
   "id": "b38005d3",
   "metadata": {
    "execution": {
     "iopub.execute_input": "2022-10-14T07:07:07.963375Z",
     "iopub.status.busy": "2022-10-14T07:07:07.962727Z",
     "iopub.status.idle": "2022-10-14T07:07:08.007590Z",
     "shell.execute_reply": "2022-10-14T07:07:08.006468Z"
    },
    "papermill": {
     "duration": 0.080658,
     "end_time": "2022-10-14T07:07:08.010309",
     "exception": false,
     "start_time": "2022-10-14T07:07:07.929651",
     "status": "completed"
    },
    "tags": []
   },
   "outputs": [
    {
     "data": {
      "text/plain": [
       "(1.0, 1.0)"
      ]
     },
     "execution_count": 60,
     "metadata": {},
     "output_type": "execute_result"
    }
   ],
   "source": [
    "from sklearn.tree import DecisionTreeClassifier\n",
    "from sklearn.model_selection import train_test_split\n",
    "dt = DecisionTreeClassifier(criterion='gini')\n",
    "dt.fit(X_train,y_train)\n",
    "dt.score(X_test, y_test),dt.score(X_train,y_train)"
   ]
  },
  {
   "cell_type": "code",
   "execution_count": 61,
   "id": "dbf702d9",
   "metadata": {
    "execution": {
     "iopub.execute_input": "2022-10-14T07:07:08.074581Z",
     "iopub.status.busy": "2022-10-14T07:07:08.074130Z",
     "iopub.status.idle": "2022-10-14T07:07:08.304539Z",
     "shell.execute_reply": "2022-10-14T07:07:08.303236Z"
    },
    "papermill": {
     "duration": 0.265264,
     "end_time": "2022-10-14T07:07:08.307005",
     "exception": false,
     "start_time": "2022-10-14T07:07:08.041741",
     "status": "completed"
    },
    "tags": []
   },
   "outputs": [
    {
     "data": {
      "text/plain": [
       "(DecisionTreeClassifier(criterion='entropy', max_depth=3, max_features=9,\n",
       "                        min_samples_split=3),\n",
       " {'min_samples_split': 3,\n",
       "  'max_features': 9,\n",
       "  'max_depth': 3,\n",
       "  'criterion': 'entropy'},\n",
       " 1.0)"
      ]
     },
     "execution_count": 61,
     "metadata": {},
     "output_type": "execute_result"
    }
   ],
   "source": [
    "from sklearn.model_selection import GridSearchCV, RandomizedSearchCV \n",
    "clf = DecisionTreeClassifier()\n",
    "param_dist = {\"max_depth\": [3],\n",
    "              \"max_features\": range(1, 10),\n",
    "              \"min_samples_split\": range(2,10),\n",
    "              \"criterion\": [ \"entropy\"]}\n",
    "random_search = RandomizedSearchCV(clf, param_distributions=param_dist, n_iter=10, cv=5)\n",
    "random_search.fit(X_enc,Y)\n",
    "random_search.best_estimator_,random_search.best_params_,random_search.best_score_"
   ]
  },
  {
   "cell_type": "code",
   "execution_count": 62,
   "id": "c854ce81",
   "metadata": {
    "execution": {
     "iopub.execute_input": "2022-10-14T07:07:08.371184Z",
     "iopub.status.busy": "2022-10-14T07:07:08.370622Z",
     "iopub.status.idle": "2022-10-14T07:07:09.183446Z",
     "shell.execute_reply": "2022-10-14T07:07:09.182296Z"
    },
    "papermill": {
     "duration": 0.847615,
     "end_time": "2022-10-14T07:07:09.185986",
     "exception": false,
     "start_time": "2022-10-14T07:07:08.338371",
     "status": "completed"
    },
    "tags": []
   },
   "outputs": [
    {
     "data": {
      "text/plain": [
       "1.0"
      ]
     },
     "execution_count": 62,
     "metadata": {},
     "output_type": "execute_result"
    }
   ],
   "source": [
    "param_grid = {\"max_depth\": [3, None],\n",
    "              \"max_features\": [1, 3, 10],\n",
    "              \"min_samples_split\": [2, 3, 10],\n",
    "              \"criterion\": [\"gini\", \"entropy\"]}\n",
    "grid_search = GridSearchCV(clf, param_grid=param_grid, cv=5)\n",
    "grid_search.fit(X_enc,Y)\n",
    "grid_search.best_score_"
   ]
  },
  {
   "cell_type": "code",
   "execution_count": null,
   "id": "24536296",
   "metadata": {
    "papermill": {
     "duration": 0.0306,
     "end_time": "2022-10-14T07:07:09.247840",
     "exception": false,
     "start_time": "2022-10-14T07:07:09.217240",
     "status": "completed"
    },
    "tags": []
   },
   "outputs": [],
   "source": []
  }
 ],
 "metadata": {
  "kernelspec": {
   "display_name": "Python 3",
   "language": "python",
   "name": "python3"
  },
  "language_info": {
   "codemirror_mode": {
    "name": "ipython",
    "version": 3
   },
   "file_extension": ".py",
   "mimetype": "text/x-python",
   "name": "python",
   "nbconvert_exporter": "python",
   "pygments_lexer": "ipython3",
   "version": "3.7.12"
  },
  "papermill": {
   "default_parameters": {},
   "duration": 22.573417,
   "end_time": "2022-10-14T07:07:10.100773",
   "environment_variables": {},
   "exception": null,
   "input_path": "__notebook__.ipynb",
   "output_path": "__notebook__.ipynb",
   "parameters": {},
   "start_time": "2022-10-14T07:06:47.527356",
   "version": "2.3.4"
  }
 },
 "nbformat": 4,
 "nbformat_minor": 5
}
